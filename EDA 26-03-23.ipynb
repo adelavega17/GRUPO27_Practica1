{
  "cells": [
    {
      "cell_type": "markdown",
      "metadata": {
        "id": "uMqSLSCMm921"
      },
      "source": [
        "# Análisis Exploratorio de los datos"
      ]
    },
    {
      "cell_type": "markdown",
      "source": [
        "Incluir una breve explicación de por que realizamos un EDA"
      ],
      "metadata": {
        "id": "SI7urfDUS1Sm"
      }
    },
    {
      "cell_type": "markdown",
      "source": [
        "Importaciones"
      ],
      "metadata": {
        "id": "2y0Kqjq4SyfY"
      }
    },
    {
      "cell_type": "code",
      "execution_count": 1,
      "metadata": {
        "id": "SLyQB4VsVp4L"
      },
      "outputs": [],
      "source": [
        "import tensorflow as tf\n",
        "import numpy as np\n",
        "import pandas as pd\n",
        "import seaborn as sns\n",
        "from keras.models import Sequential\n",
        "from keras.layers import Dense\n",
        "from keras.layers import Dropout\n",
        "from tensorflow.keras.utils import to_categorical\n",
        "from sklearn.metrics import confusion_matrix, classification_report\n",
        "import datetime\n",
        "import matplotlib.pyplot as plt\n",
        "\n",
        "from scipy.stats import bartlett, pearsonr\n",
        "import statsmodels.api as sm\n",
        "from statsmodels.stats.outliers_influence import variance_inflation_factor\n",
        "\n",
        "from sklearn.linear_model import LinearRegression, Ridge, Lasso, ElasticNet, RidgeCV, LassoCV, ElasticNetCV\n",
        "from sklearn.model_selection import train_test_split\n",
        "from sklearn import metrics, svm\n",
        "from sklearn.preprocessing import StandardScaler\n",
        "from sklearn.pipeline import Pipeline\n",
        "from sklearn.tree import DecisionTreeRegressor\n",
        "from sklearn.neighbors import KNeighborsRegressor\n",
        "from sklearn.decomposition import PCA\n",
        "from sklearn.ensemble import RandomForestRegressor\n",
        "\n",
        "from sklearn.preprocessing import MinMaxScaler\n",
        "from sklearn.preprocessing import StandardScaler \n",
        "from sklearn.model_selection import train_test_split\n",
        "\n",
        "from sklearn.model_selection import train_test_split\n",
        "from sklearn.neighbors import KNeighborsClassifier\n",
        "from sklearn import metrics\n",
        "\n",
        "#from tensorflow.keras import datasets, layers, models\n",
        "#import matplotlib.pyplot as plt\n",
        "\n"
      ]
    },
    {
      "cell_type": "markdown",
      "metadata": {
        "id": "B6IcbQCrnl9W"
      },
      "source": [
        "## Mount Drive Gaston"
      ]
    },
    {
      "cell_type": "code",
      "execution_count": null,
      "metadata": {
        "colab": {
          "base_uri": "https://localhost:8080/"
        },
        "id": "ckJ9C420nXC_",
        "outputId": "1590fc0c-5a46-43b5-9b67-6cd32caac5ac"
      },
      "outputs": [
        {
          "name": "stdout",
          "output_type": "stream",
          "text": [
            "Mounted at /content/drive/\n",
            "drive  sample_data\n",
            "[Errno 2] No such file or directory: '/content/drive/MyDrive/Aprendizaje'\n",
            "/content\n",
            "drive  sample_data\n"
          ]
        }
      ],
      "source": [
        "# mount drive Gastón\n",
        "from google.colab import drive\n",
        "drive.mount('/content/drive/', force_remount=True)\n",
        "\n",
        "# Abrir el path concreto\n",
        "#Insert here your own path. \n",
        "!ls\n",
        "%cd \"/content/drive/MyDrive/Aprendizaje\"\n",
        "!ls"
      ]
    },
    {
      "cell_type": "markdown",
      "metadata": {
        "id": "7Sj5yRQinzd6"
      },
      "source": [
        "## Mount Drive Adela"
      ]
    },
    {
      "cell_type": "code",
      "execution_count": 2,
      "metadata": {
        "colab": {
          "base_uri": "https://localhost:8080/"
        },
        "id": "5JZBpfhaHFPa",
        "outputId": "895fe889-4a9b-44de-fb27-a056f7fa1855"
      },
      "outputs": [
        {
          "output_type": "stream",
          "name": "stdout",
          "text": [
            "Mounted at /content/drive/\n",
            "drive  sample_data\n",
            "/content/drive/MyDrive/6-2-C/AA/P1/Data\n",
            "comp_st27ns1.txt.bz2  disp_st27ns1.txt.bz2\n"
          ]
        }
      ],
      "source": [
        "# mount drive Adela\n",
        "from google.colab import drive\n",
        "drive.mount('/content/drive/', force_remount=True)\n",
        "\n",
        "# Abrir el path concreto\n",
        "#Insert here your own path. \n",
        "!ls\n",
        "%cd \"/content/drive/MyDrive/6-2-C/AA/P1/Data\"\n",
        "!ls\n"
      ]
    },
    {
      "cell_type": "markdown",
      "source": [
        "Cargamos los datos Disponibles y de Competición"
      ],
      "metadata": {
        "id": "ov8fkq0rTBds"
      }
    },
    {
      "cell_type": "code",
      "execution_count": 3,
      "metadata": {
        "id": "focwIHke8Kka"
      },
      "outputs": [],
      "source": [
        "disp_df = pd.read_csv(\"disp_st27ns1.txt.bz2\",\n",
        " compression=\"bz2\",\n",
        "index_col=0)\n",
        "comp_df = pd.read_csv(\"comp_st27ns1.txt.bz2\",\n",
        " compression=\"bz2\",\n",
        "index_col=0)"
      ]
    },
    {
      "cell_type": "markdown",
      "source": [
        "Previo a la división de los datos en conjuntos de Entrenamiento, Set y Validación, se ha de hacer una exploración de los datos con el objetivo de comprobar la forma en la que se presentan. Para ello hemos investigado el tipo de variables con el cual trabajaremos, si existen valores nulos, filas duplicadas o incluso la correlación de los datos presentes. \n",
        "Previo a la división de los datos en conjuntos de Entrenamiento, Set y Validación, se ha de hacer una exploración de los datos con el objetivo de comprobar la forma en la que se presentan. Para ello hemos investigado el tipo de variables con el cual trabajaremos, si existen valores nulos, filas duplicadas o incluso la correlación de los datos presentes. \n"
      ],
      "metadata": {
        "id": "nHCC6Z3zT_Vl"
      }
    },
    {
      "cell_type": "markdown",
      "source": [
        "### Eliminación de filas duplicadas. \n",
        "Como es posible observar, no existe ninguna fila duplicada."
      ],
      "metadata": {
        "id": "vyCsOyrPUHSS"
      }
    },
    {
      "cell_type": "code",
      "execution_count": 4,
      "metadata": {
        "id": "40bv3p3cK7x6",
        "colab": {
          "base_uri": "https://localhost:8080/"
        },
        "outputId": "f04776d2-7fca-4484-fb73-4065e6e98e7b"
      },
      "outputs": [
        {
          "output_type": "stream",
          "name": "stdout",
          "text": [
            "         salida\n",
            "V1     10814100\n",
            "V2      3524700\n",
            "V3      2262300\n",
            "V4      2414100\n",
            "V5      8925600\n",
            "...         ...\n",
            "V4376   2586300\n",
            "V4377   7096500\n",
            "V4378  10694700\n",
            "V4379  11154900\n",
            "V4380  11047800\n",
            "\n",
            "[4380 rows x 1 columns]\n"
          ]
        }
      ],
      "source": [
        "disp_df_unicos = disp_df.drop_duplicates()\n",
        "disp_df_unicos.shape\n",
        "\n",
        "print(disp_df.iloc[:, -1:])"
      ]
    },
    {
      "cell_type": "markdown",
      "source": [
        "### Evaluación de valores nulos. \n",
        "Como es posible observar, no existe ningun dato nulo en el conjunto de datos."
      ],
      "metadata": {
        "id": "g-irr1kCU3p9"
      }
    },
    {
      "cell_type": "code",
      "source": [
        "print(disp_df.isnull().values.any())"
      ],
      "metadata": {
        "colab": {
          "base_uri": "https://localhost:8080/"
        },
        "id": "xQM8bhSTVEW-",
        "outputId": "c4a75978-f3ab-4391-fabe-5aced0a1092c"
      },
      "execution_count": null,
      "outputs": [
        {
          "output_type": "stream",
          "name": "stdout",
          "text": [
            "False\n"
          ]
        }
      ]
    },
    {
      "cell_type": "markdown",
      "source": [
        "### Evaluación de correlación de variables\n",
        "\n",
        "Estudiar la correlación de las variables (TBD)"
      ],
      "metadata": {
        "id": "ZLLvhZzFXaoc"
      }
    },
    {
      "cell_type": "code",
      "source": [
        "# CORRELACION DE VARIABLES\n",
        "def cor_matrix(df):\n",
        "    #cor = disp_df.corr()[abs(disp_df.corr()) > 0.6]\n",
        "    cor = disp_df.corr()\n",
        "    mask = np.zeros_like(cor)\n",
        "    mask[np.triu_indices_from(mask)] = True\n",
        "    plt.figure(figsize=(36, 16))\n",
        "    sns.heatmap(cor, mask=mask, annot=False)\n",
        "    plt.show()\n",
        "\n",
        "cor_matrix(disp_df)\n",
        "\n",
        "# realizar el test de Bartlett\n",
        "statistic, pvalue = bartlett(*disp_df.T.values)\n",
        "\n",
        "# imprimir los resultados\n",
        "print(\"Estadístico de prueba:\", statistic)\n",
        "print(\"Valor p:\", pvalue)\n",
        "pvalue\n",
        "#aqui podemos ver que se rechaza la hipotesis nula de que es la matriz identidad, hay multicolinealidad, hay que eliminarla\n"
      ],
      "metadata": {
        "colab": {
          "base_uri": "https://localhost:8080/",
          "height": 745
        },
        "id": "sjt6CpxXXbAG",
        "outputId": "f260e3ba-fe3c-4260-ab42-d4ec165ee224"
      },
      "execution_count": 5,
      "outputs": [
        {
          "output_type": "display_data",
          "data": {
            "text/plain": [
              "<Figure size 2592x1152 with 2 Axes>"
            ],
            "image/png": "[encoded data removed]"
          },
          "metadata": {
            "needs_background": "light"
          }
        },
        {
          "output_type": "stream",
          "name": "stdout",
          "text": [
            "Estadístico de prueba: 7751358.776000544\n",
            "Valor p: 0.0\n"
          ]
        },
        {
          "output_type": "execute_result",
          "data": {
            "text/plain": [
              "0.0"
            ]
          },
          "metadata": {},
          "execution_count": 5
        }
      ]
    },
    {
      "cell_type": "markdown",
      "source": [
        "**Comentarios derivados de la matriz de Correlación**\n",
        "\n",
        "En este gráfioco miraremos a las zonas más claras (correlación positiva) o más oscuras (correlación negativa). De esta forma sabremos que variables afectan en gran medidas a otras. \n",
        "\n",
        "**Importante:** Cuando se eliminan características irrelevantes en K-NN, es importante identificar las características que tienen poca o ninguna correlación con la variable objetivo (es decir, la columna de etiquetas). Una forma común de hacerlo es calcular la correlación entre cada característica y la variable objetivo, y luego seleccionar las características con la mayor correlación.\n",
        "\n",
        "Sin embargo, la correlación con otras características también puede ser un factor en la determinación de qué características eliminar. Por ejemplo, si tiene dos características altamente correlacionadas entre sí, es posible que desee eliminar una de ellas para evitar la multicolinealidad, que puede afectar negativamente el rendimiento de su modelo K-NN.\n",
        "\n",
        "*   Mismos atributos su correlación es máxima = 1 (No muy potente).\n",
        "\n",
        "\n"
      ],
      "metadata": {
        "id": "WpzXeJ9ymuHN"
      }
    },
    {
      "cell_type": "markdown",
      "metadata": {
        "id": "EsbT0iFLn3Cb"
      },
      "source": [
        "## Separación en conjuntos de Entrenamiento, Validación y Test"
      ]
    },
    {
      "cell_type": "code",
      "execution_count": 6,
      "metadata": {
        "colab": {
          "base_uri": "https://localhost:8080/"
        },
        "id": "YEtB5fCJPMHm",
        "outputId": "6f2fa513-59b4-4feb-c941-e2cffe40caad"
      },
      "outputs": [
        {
          "output_type": "stream",
          "name": "stdout",
          "text": [
            "       apcp_sf1_1  apcp_sf2_1  apcp_sf3_1  apcp_sf4_1  apcp_sf5_1  dlwrf_s1_1  \\\n",
            "V3651    0.000000    0.000000    0.000000    0.000000    0.000000  223.426755   \n",
            "V3652    0.000000    0.000000    0.000000    0.000000    0.000000  240.940893   \n",
            "V3653    0.190909    0.235455    1.545455    3.620000    4.291818  334.705547   \n",
            "V3654    0.372727    0.080000    0.152727    0.033636    0.067273  382.270236   \n",
            "V3655    0.170909    0.088182    0.311818    0.426364    1.251818  367.165677   \n",
            "...           ...         ...         ...         ...         ...         ...   \n",
            "V4376    0.103636    0.031818    0.275455    1.363636    2.723636  290.259560   \n",
            "V4377    0.042727    0.011818    0.005455    0.000000    0.000000  281.187456   \n",
            "V4378    0.000000    0.000000    0.000000    0.000000    0.000000  258.991619   \n",
            "V4379    0.000000    0.000000    0.000000    0.000000    0.000000  267.316595   \n",
            "V4380    0.000000    0.000000    0.000000    0.000000    0.000000  265.567166   \n",
            "\n",
            "       dlwrf_s2_1  dlwrf_s3_1  dlwrf_s4_1  dlwrf_s5_1  ...  ulwrf_t2_1  \\\n",
            "V3651  226.060759  234.286915  255.818264  254.230445  ...  238.072751   \n",
            "V3652  238.937339  245.313597  271.858895  272.046903  ...  245.876715   \n",
            "V3653  350.051480  355.893016  372.886971  364.141554  ...  234.714507   \n",
            "V3654  350.073015  355.801114  351.461914  346.526045  ...  274.001748   \n",
            "V3655  345.536094  362.508320  397.088670  397.234433  ...  272.647428   \n",
            "...           ...         ...         ...         ...  ...         ...   \n",
            "V4376  273.578697  290.364211  336.500117  329.825229  ...  244.348444   \n",
            "V4377  270.918392  261.076105  257.875871  255.614019  ...  245.674612   \n",
            "V4378  266.566642  270.990501  285.661122  282.533206  ...  227.978506   \n",
            "V4379  263.072063  271.107649  292.155748  289.533175  ...  262.343628   \n",
            "V4380  260.618000  269.315979  287.204010  284.632593  ...  243.261454   \n",
            "\n",
            "       ulwrf_t3_1  ulwrf_t4_1  ulwrf_t5_1  uswrf_s1_1  uswrf_s2_1  uswrf_s3_1  \\\n",
            "V3651  242.921954  257.735768  255.903657         0.0   11.000000   49.000000   \n",
            "V3652  250.104709  249.786535  249.997750         0.0   10.454545   47.909091   \n",
            "V3653  217.713172  167.077388  173.673377         0.0    2.636364   13.545455   \n",
            "V3654  270.763150  267.043438  267.336606         0.0    4.545455   24.272727   \n",
            "V3655  273.099440  269.761780  267.227994         0.0    4.545455   16.090909   \n",
            "...           ...         ...         ...         ...         ...         ...   \n",
            "V4376  237.416203  184.462400  184.607586         0.0    7.454545   29.363636   \n",
            "V4377  249.425982  259.792969  256.932908         0.0   12.181818   57.909091   \n",
            "V4378  236.917554  268.096311  269.024766         0.0    8.272727   44.454545   \n",
            "V4379  256.254039  263.650323  268.711556         0.0   10.909091   46.181818   \n",
            "V4380  245.428872  258.173867  258.030846         0.0    9.454545   42.727273   \n",
            "\n",
            "       uswrf_s4_1  uswrf_s5_1    salida  \n",
            "V3651   99.000000   65.000000  12056700  \n",
            "V3652   94.545455   61.272727  10915500  \n",
            "V3653   13.909091    9.818182   1243500  \n",
            "V3654   66.181818   44.363636   7909800  \n",
            "V3655   17.090909   10.454545   4527300  \n",
            "...           ...         ...       ...  \n",
            "V4376   26.181818   16.181818   2586300  \n",
            "V4377  118.363636   75.909091   7096500  \n",
            "V4378   94.909091   61.909091  10694700  \n",
            "V4379   94.363636   61.727273  11154900  \n",
            "V4380   90.727273   59.181818  11047800  \n",
            "\n",
            "[730 rows x 76 columns]\n"
          ]
        }
      ],
      "source": [
        "#Creamos el conjunto de entrenamiento separando X e Y\n",
        "#Columnas con datos de entrada\n",
        "input_cols = disp_df.columns[:75]\n",
        "#Número de filas correspondiente a los 8 primeros años - Entrenamiento\n",
        "n_rows_train = int((disp_df_unicos.shape[0]*8)/12)\n",
        "\n",
        "#Creamos el subset para entrenamiento\n",
        "subset_df = disp_df.iloc[:n_rows_train]\n",
        "\n",
        "#Datos de entrada y salida subset de entrenamiento\n",
        "X_train_df = subset_df.iloc[:, :75]\n",
        "y_train_df = subset_df.iloc[:, -1:]\n",
        "\n",
        "# Crear el conjunto de validación \n",
        "#Número de filas correspondiente a los 2 años - Validación\n",
        "n_rows_val = int((disp_df_unicos.shape[0]*2)/12)\n",
        "\n",
        "start_index = disp_df_unicos.shape[0] - (n_rows_val*2)\n",
        "end_index = disp_df_unicos.shape[0] - (n_rows_val)\n",
        "subset_val_df = disp_df.iloc[start_index:end_index:,:]\n",
        "\n",
        "X_val_df = subset_val_df.iloc[:, :75]\n",
        "y_val_df = subset_val_df.iloc[:, -1:]\n",
        "\n",
        "#Creamos el conjunto de test de manera manual\n",
        "n_rows_test = int((disp_df_unicos.shape[0]*2)/12)\n",
        "\n",
        "test_df = disp_df.iloc[-n_rows_test:, :]\n",
        "print(test_df)\n",
        "\n",
        "input_cols = disp_df.columns[:75]\n",
        "output_col = disp_df.columns[-1]\n",
        "\n",
        "X_test_df = test_df.loc[:, input_cols]\n",
        "y_test_df = test_df.loc[:, output_col]\n",
        "\n",
        "\n",
        "\n"
      ]
    },
    {
      "cell_type": "markdown",
      "source": [
        "## Regresor Dummy"
      ],
      "metadata": {
        "id": "b_3m2GOeaa7s"
      }
    },
    {
      "cell_type": "code",
      "source": [
        "from sklearn.dummy import DummyRegressor\n",
        "from sklearn import metrics\n",
        "from sklearn.metrics import mean_absolute_error, mean_squared_error, r2_score\n",
        "\n",
        "\n",
        "regr_mean = DummyRegressor(strategy=\"mean\")\n",
        "regr_mean.fit(X_train_df, y_train_df)\n",
        "rmse_mean = np.sqrt(metrics.mean_squared_error(y_val_df, regr_mean.predict(X_val_df)))\n",
        "r2_mean = metrics.r2_score(y_val_df, regr_mean.predict(X_val_df))\n",
        "\n",
        "# Calculate mean absolute error (MAE)\n",
        "mae = mean_absolute_error(y_val_df, regr_mean.predict(X_val_df))\n",
        "\n",
        "# Calculate mean squared error (MSE)\n",
        "mse = mean_squared_error(y_val_df, regr_mean.predict(X_val_df))\n",
        "\n",
        "# Calculate R-squared score\n",
        "r2_score = r2_score(y_val_df, regr_mean.predict(X_val_df))\n",
        "\n",
        "print(\"MAE: \",mae)\n",
        "print(\"MSE: \",mse)\n",
        "print(\"R2: \",r2_score)\n",
        "\n"
      ],
      "metadata": {
        "colab": {
          "base_uri": "https://localhost:8080/"
        },
        "id": "Q7ZEWAHmah0Q",
        "outputId": "51ed7034-c555-4314-9a59-3fb641763195"
      },
      "execution_count": 35,
      "outputs": [
        {
          "output_type": "stream",
          "name": "stdout",
          "text": [
            "MAE:  6889559.834828299\n",
            "MSE:  63181800761365.26\n",
            "R2:  -0.0008890939076611204\n"
          ]
        }
      ]
    },
    {
      "cell_type": "markdown",
      "source": [
        "### Explicación de estudio de métricas. \n",
        "\n",
        "Las métricas de evaluación son una forma de medir qué tan bien está funcionando un modelo de aprendizaje automático. En el caso de los modelos de regresión, estas métricas evalúan qué tan bien el modelo puede predecir los valores continuos de la variable objetivo.\n",
        "\n",
        "Algunas de las métricas de evaluación comunes para los modelos de regresión son el error absoluto medio (MAE), el error cuadrático medio (MSE) y el coeficiente de determinación (R-cuadrado). El MAE y el MSE miden la distancia entre las predicciones del modelo y los valores reales, mientras que el R-cuadrado mide qué tan bien el modelo se ajusta a los datos.\n",
        "\n",
        "Por otro lado, las métricas de evaluación de clasificación, como la precisión, la sensibilidad (recall), la especificidad y la puntuación F1, miden qué tan bien el modelo puede predecir las etiquetas de clase binarias o múltiples.\n",
        "\n",
        "Entonces, como el modelo DummyRegressor es un modelo de regresión, no tiene sentido calcular las métricas de evaluación de clasificación, ya que estas están diseñadas para medir la capacidad del modelo para clasificar los datos en categorías discretas. En cambio, se deben usar las métricas de evaluación de regresión adecuadas para evaluar el rendimiento del modelo de regresión.\n",
        "\n",
        "\n",
        "El **MAE** (Mean Absolute Error) mide la magnitud promedio de los errores en las predicciones del modelo. Es una medida de la distancia promedio entre las predicciones del modelo y los valores reales, y nos indica qué tan cerca están las predicciones del modelo de los valores reales en términos absolutos. Un valor bajo de MAE indica que el modelo tiene un buen rendimiento en la predicción de los valores reales.\n",
        "\n",
        "El **MSE** (Mean Squared Error) mide el promedio de los errores al cuadrado en las predicciones del modelo. Al elevar los errores al cuadrado, el MSE da más peso a los errores grandes y menos peso a los errores pequeños. El MSE nos indica qué tan bien el modelo está prediciendo la variabilidad en los datos. Un valor bajo de MSE indica que el modelo tiene un buen rendimiento en la predicción de la variabilidad de los valores reales.\n",
        "\n",
        "El **R-cuadrado** es una medida de cuánta varianza en los datos de la variable objetivo es explicada por el modelo. El R-cuadrado tiene un valor entre 0 y 1, y cuanto más cercano a 1, mejor es el rendimiento del modelo. Si el valor de R-cuadrado es 0, significa que el modelo no explica ninguna de la varianza en los datos, mientras que un valor de 1 significa que el modelo explica toda la varianza en los datos."
      ],
      "metadata": {
        "id": "pWbfLyf6vJWy"
      }
    },
    {
      "cell_type": "markdown",
      "metadata": {
        "id": "UjwC99d62vuk"
      },
      "source": [
        "## K - NN"
      ]
    },
    {
      "cell_type": "markdown",
      "metadata": {
        "id": "LaE12Eq4284Z"
      },
      "source": [
        "### Data Preparation\n",
        "\n",
        "Para usar K-NN se debe preparar los datos correctamente. Las técnicas de aprendizaje automático que se basan en la medición de distancias, como las redes de neuronas, el k-NN y el SVM, requieren que los atributos estén **rescalados** para evitar que el atributo con mayor rango de valores tenga una influencia desproporcionada en la medida de distancia.\n",
        "\n",
        "**Manejo de valores faltantes:** K-NN no maneja bien los valores faltantes, por lo que es importante manejarlos adecuadamente. Se pueden imputar los valores faltantes utilizando técnicas como la imputación de la media, la imputación de la mediana o mediante el uso de un modelo predictivo para imputar valores faltantes.\n",
        "\n",
        "**Eliminación de características irrelevantes:** K-NN es sensible a las características irrelevantes, por lo que es importante eliminarlas antes de entrenar el modelo. Se pueden utilizar técnicas de selección de características, como el análisis de correlación o la información mutua, para identificar y eliminar características irrelevantes.\n",
        "\n",
        "**Manejo de variables categóricas:** K-NN es un algoritmo basado en distancia que calcula distancias entre puntos de datos basándose en las características. Por lo tanto, es importante manejar adecuadamente las variables categóricas. Se pueden convertir las variables categóricas en variables numéricas utilizando técnicas como la codificación one-hot o la codificación de etiquetas."
      ]
    },
    {
      "cell_type": "code",
      "source": [
        "#Evitamos que se produzca multicolinealidad: aquellas variables que tienen alta correlación con otras variables del modelo.\n",
        "\n",
        "import pandas as pd\n",
        "\n",
        "# Cargar la base de datos\n",
        "disp_df_knn = pd.read_csv(\"disp_st27ns1.txt.bz2\",compression=\"bz2\",index_col=0)\n",
        "comp_df_knn = pd.read_csv(\"comp_st27ns1.txt.bz2\",compression=\"bz2\",index_col=0)\n",
        "# Calcular la matriz de correlación\n",
        "corr_matrix = disp_df_knn.corr().abs()\n",
        "\n",
        "# Seleccionar la matriz triangular superior\n",
        "upper = corr_matrix.where(np.triu(np.ones(corr_matrix.shape), k=1).astype(np.bool))\n",
        "\n",
        "# Encontrar las características altamente correlacionadas - >.9\n",
        "to_drop = [column for column in upper.columns if any(upper[column] > 0.95)]\n",
        "print(disp_df_knn.shape)\n",
        "# Eliminar las características altamente correlacionadas\n",
        "disp_df_knn.drop(to_drop, axis=1, inplace=True)\n",
        "\n",
        "print(disp_df_knn.shape)"
      ],
      "metadata": {
        "colab": {
          "base_uri": "https://localhost:8080/"
        },
        "id": "EQzEFojhpnri",
        "outputId": "177a935f-81e3-4cbd-c10c-4551401a62c4"
      },
      "execution_count": 13,
      "outputs": [
        {
          "output_type": "stream",
          "name": "stdout",
          "text": [
            "(4380, 76)\n",
            "(4380, 25)\n"
          ]
        },
        {
          "output_type": "stream",
          "name": "stderr",
          "text": [
            "<ipython-input-13-fd4faa671302>:12: DeprecationWarning: `np.bool` is a deprecated alias for the builtin `bool`. To silence this warning, use `bool` by itself. Doing this will not modify any behavior and is safe. If you specifically wanted the numpy scalar type, use `np.bool_` here.\n",
            "Deprecated in NumPy 1.20; for more details and guidance: https://numpy.org/devdocs/release/1.20.0-notes.html#deprecations\n",
            "  upper = corr_matrix.where(np.triu(np.ones(corr_matrix.shape), k=1).astype(np.bool))\n"
          ]
        }
      ]
    },
    {
      "cell_type": "code",
      "execution_count": 26,
      "metadata": {
        "colab": {
          "base_uri": "https://localhost:8080/"
        },
        "id": "4OQ4NJyX24Sf",
        "outputId": "0d6da99f-3512-4083-8bb2-a52b6aa8d088"
      },
      "outputs": [
        {
          "output_type": "stream",
          "name": "stdout",
          "text": [
            "      apcp_sf1_1  apcp_sf2_1  apcp_sf3_1  apcp_sf4_1  apcp_sf5_1  dlwrf_s1_1  \\\n",
            "0      -0.294642   -0.255085   -0.275702   -0.300726   -0.307636   -0.607688   \n",
            "1      -0.294642   -0.255085   -0.270946   -0.248605   -0.153840   -1.279998   \n",
            "2      -0.141169   -0.236787   -0.254519   -0.291479   -0.304275   -0.843463   \n",
            "3      -0.293519   -0.251273   -0.275702   -0.300726   -0.307636   -1.191572   \n",
            "4      -0.294642   -0.255085   -0.275702   -0.300726   -0.307636   -1.577182   \n",
            "...          ...         ...         ...         ...         ...         ...   \n",
            "2915   -0.294642   -0.255085   -0.275702   -0.300726   -0.307636   -1.977959   \n",
            "2916   -0.294642   -0.255085   -0.275702   -0.300726   -0.307636   -1.888606   \n",
            "2917   -0.294642   -0.255085   -0.275702   -0.300726   -0.307636   -1.476844   \n",
            "2918   -0.294642   -0.255085   -0.275702   -0.300726   -0.307636   -1.548013   \n",
            "2919   -0.294642   -0.255085   -0.275702   -0.300726   -0.307636   -1.712972   \n",
            "\n",
            "      dlwrf_s2_1  dlwrf_s3_1  dlwrf_s4_1  dlwrf_s5_1  ...  ulwrf_t1_1  \\\n",
            "0      -1.228871   -1.253869   -1.303513   -1.323794  ...   -1.365262   \n",
            "1      -0.734915   -0.566273   -0.406696   -0.508959  ...   -0.327055   \n",
            "2      -1.149291   -1.169538   -1.160434   -1.246344  ...   -0.886696   \n",
            "3      -1.043946   -1.175664   -1.563546   -1.629224  ...   -0.437461   \n",
            "4      -1.412643   -1.373144   -1.275956   -1.256282  ...   -0.375862   \n",
            "...          ...         ...         ...         ...  ...         ...   \n",
            "2915   -2.096302   -2.077986   -2.039673   -2.030013  ...   -0.859388   \n",
            "2916   -2.134612   -2.160210   -2.112950   -2.096900  ...   -0.463514   \n",
            "2917   -1.403693   -1.435703   -1.501508   -1.497861  ...   -0.319671   \n",
            "2918   -1.551605   -1.514003   -1.386421   -1.323445  ...   -0.208811   \n",
            "2919   -2.044118   -2.064432   -1.971201   -1.885297  ...   -0.313856   \n",
            "\n",
            "      ulwrf_t2_1  ulwrf_t3_1  ulwrf_t4_1  ulwrf_t5_1  uswrf_s1_1  uswrf_s2_1  \\\n",
            "0       0.064582    0.034586   -0.067920   -0.147063   -0.450309   -1.123978   \n",
            "1      -1.010781   -1.221393   -1.688223   -1.617211   -0.450309   -1.358338   \n",
            "2      -0.294506   -0.385006   -1.280628   -1.421297   -0.450309   -0.942088   \n",
            "3      -0.342642   -0.367902   -0.292176   -0.413314   -0.450309   -1.218422   \n",
            "4      -0.420286   -0.507474   -0.320705   -0.323206   -0.450309   -1.144966   \n",
            "...          ...         ...         ...         ...         ...         ...   \n",
            "2915   -0.605595   -0.581634   -0.381555   -0.462732   -0.450309   -1.068012   \n",
            "2916   -0.539479   -0.514190   -0.364076   -0.443014   -0.450309   -1.047025   \n",
            "2917   -0.448780   -0.465662   -0.414686   -0.615952   -0.450309   -1.130974   \n",
            "2918   -0.284233   -0.247103   -0.119147   -0.355277   -0.450309   -1.085502   \n",
            "2919   -0.440626   -0.484765   -0.708420   -0.952747   -0.450309   -1.061016   \n",
            "\n",
            "      uswrf_s3_1  uswrf_s4_1  uswrf_s5_1  \n",
            "0      -0.876240   -0.517622   -0.781680  \n",
            "1      -1.790502   -1.881638   -1.878773  \n",
            "2       0.139606    0.862903    0.233578  \n",
            "3      -1.125848   -0.565084   -0.799581  \n",
            "4      -0.942996   -0.544448   -0.799581  \n",
            "...          ...         ...         ...  \n",
            "2915   -0.742729   -0.373172   -0.676830  \n",
            "2916   -0.734022   -0.364918   -0.669158  \n",
            "2917   -0.896557   -0.534130   -0.840498  \n",
            "2918   -0.800777   -0.443333   -0.756107  \n",
            "2919   -0.765948   -0.466033   -0.802139  \n",
            "\n",
            "[2920 rows x 75 columns]\n",
            "     apcp_sf1_1  apcp_sf2_1  apcp_sf3_1  apcp_sf4_1  apcp_sf5_1  dlwrf_s1_1  \\\n",
            "0     -0.282854   -0.277054   -0.299455   -0.284361   -0.308562   -1.735174   \n",
            "1     -0.282854   -0.277054   -0.299455   -0.296023   -0.322510   -1.950058   \n",
            "2     -0.282854   -0.277054   -0.299455   -0.296023   -0.322510   -1.534026   \n",
            "3     -0.282854   -0.277054   -0.299455   -0.296023   -0.322510   -2.108079   \n",
            "4     -0.282854   -0.277054   -0.299455   -0.296023   -0.322510   -2.208680   \n",
            "..          ...         ...         ...         ...         ...         ...   \n",
            "725   -0.282854   -0.277054   -0.299455   -0.296023   -0.322510   -1.349887   \n",
            "726   -0.282854   -0.277054   -0.298922   -0.296023   -0.322510   -1.045825   \n",
            "727   -0.102786    0.108906    0.357603    0.789385    1.407541    0.667271   \n",
            "728   -0.246664   -0.277054   -0.298922   -0.208114   -0.121945   -0.200252   \n",
            "729   -0.282854   -0.277054   -0.299455   -0.296023   -0.322510   -1.374885   \n",
            "\n",
            "     dlwrf_s2_1  dlwrf_s3_1  dlwrf_s4_1  dlwrf_s5_1  ...  ulwrf_t1_1  \\\n",
            "0     -1.517638   -1.349830   -1.081359   -1.040666  ...   -0.762010   \n",
            "1     -2.016329   -2.024926   -1.973986   -1.962241  ...   -0.808102   \n",
            "2     -1.694235   -1.834975   -1.890882   -1.915292  ...   -2.057577   \n",
            "3     -1.755500   -1.944797   -2.333207   -2.332733  ...   -0.901229   \n",
            "4     -2.171524   -2.195427   -2.196601   -2.188773  ...   -0.764324   \n",
            "..          ...         ...         ...         ...  ...         ...   \n",
            "725   -1.313308   -1.297375   -1.194237   -1.270710  ...   -0.336764   \n",
            "726   -0.942539   -0.770688   -0.371307   -0.482543  ...   -0.146089   \n",
            "727    0.686813    0.596020    0.445626    0.471335  ...    0.565739   \n",
            "728   -0.090934   -0.094792   -0.187320   -0.252593  ...    0.194160   \n",
            "729   -1.410006   -1.478846   -1.599323   -1.617108  ...   -0.400685   \n",
            "\n",
            "     ulwrf_t2_1  ulwrf_t3_1  ulwrf_t4_1  ulwrf_t5_1  uswrf_s1_1  uswrf_s2_1  \\\n",
            "0     -1.125595   -1.775096   -2.358500   -2.191602   -0.430668   -1.254117   \n",
            "1     -0.740439   -0.701101   -0.468011   -0.506719   -0.430668   -1.081949   \n",
            "2     -1.607795   -1.305331   -1.052169   -1.019232   -0.430668   -1.197899   \n",
            "3     -1.441856   -1.270310   -0.603107   -0.654055   -0.430668   -1.243576   \n",
            "4     -0.751064   -0.642062   -0.321311   -0.366369   -0.430668   -1.081949   \n",
            "..          ...         ...         ...         ...         ...         ...   \n",
            "725   -0.438802   -0.515340   -0.629972   -0.397537   -0.430668   -1.117085   \n",
            "726   -0.215871   -0.252264   -0.666663   -0.455238   -0.430668   -1.155735   \n",
            "727    0.451507    0.283138   -0.057184   -0.077563   -0.430668   -1.433311   \n",
            "728   -0.043307   -0.228958   -0.799552   -0.857615   -0.430668   -1.377093   \n",
            "729   -0.402275   -0.243994    0.067753    0.020846   -0.430668   -1.106545   \n",
            "\n",
            "     uswrf_s3_1  uswrf_s4_1  uswrf_s5_1  \n",
            "0     -1.495373   -1.599955   -1.713880  \n",
            "1     -0.741694   -0.387222   -0.659209  \n",
            "2     -0.845747   -0.502628   -0.767633  \n",
            "3     -0.893555   -0.299201   -0.568035  \n",
            "4     -0.702323   -0.273773   -0.538464  \n",
            "..          ...         ...         ...  \n",
            "725   -0.871057   -0.608253   -0.836631  \n",
            "726   -1.186027   -1.265476   -1.391072  \n",
            "727   -2.071881   -2.356935   -2.307748  \n",
            "728   -1.920020   -2.311947   -2.246143  \n",
            "729   -0.789502   -0.373530   -0.646888  \n",
            "\n",
            "[730 rows x 75 columns]\n",
            "     apcp_sf1_1  apcp_sf2_1  apcp_sf3_1  apcp_sf4_1  apcp_sf5_1  dlwrf_s1_1  \\\n",
            "0     -0.233581   -0.253115   -0.285323   -0.294552   -0.314140   -1.679129   \n",
            "1     -0.233581   -0.253115   -0.285323   -0.294552   -0.314140   -1.354218   \n",
            "2     -0.163933   -0.048149    0.542599    3.438191    2.244165    0.385245   \n",
            "3     -0.097602   -0.183474   -0.203505   -0.259868   -0.274040    1.267636   \n",
            "4     -0.171229   -0.176352   -0.118277    0.145091    0.432055    0.987425   \n",
            "..          ...         ...         ...         ...         ...         ...   \n",
            "725   -0.195772   -0.225417   -0.137758    1.111554    1.309389   -0.439289   \n",
            "726   -0.217993   -0.242827   -0.282401   -0.294552   -0.314140   -0.607589   \n",
            "727   -0.233581   -0.253115   -0.285323   -0.294552   -0.314140   -1.019352   \n",
            "728   -0.233581   -0.253115   -0.285323   -0.294552   -0.314140   -0.864912   \n",
            "729   -0.233581   -0.253115   -0.285323   -0.294552   -0.314140   -0.897367   \n",
            "\n",
            "     dlwrf_s2_1  dlwrf_s3_1  dlwrf_s4_1  dlwrf_s5_1  ...  ulwrf_t1_1  \\\n",
            "0     -1.572484   -1.537799   -1.440004   -1.449502  ...   -0.221007   \n",
            "1     -1.348866   -1.350721   -1.181542   -1.162260  ...    0.113408   \n",
            "2      0.580776    0.525363    0.446319    0.322519  ...   -0.220347   \n",
            "3      0.581150    0.523804    0.101098    0.038517  ...    0.888794   \n",
            "4      0.502361    0.637598    0.836280    0.856053  ...    0.481170   \n",
            "..          ...         ...         ...         ...  ...         ...   \n",
            "725   -0.747273   -0.586395   -0.139981   -0.230739  ...   -0.584163   \n",
            "726   -0.793473   -1.083295   -1.406850   -1.427196  ...   -0.003901   \n",
            "727   -0.869047   -0.915088   -0.959147   -0.993196  ...   -0.142496   \n",
            "728   -0.929735   -0.913101   -0.854500   -0.880341  ...    0.627794   \n",
            "729   -0.972353   -0.943498   -0.934287   -0.959349  ...   -0.141612   \n",
            "\n",
            "     ulwrf_t2_1  ulwrf_t3_1  ulwrf_t4_1  ulwrf_t5_1  uswrf_s1_1  uswrf_s2_1  \\\n",
            "0     -0.210674   -0.191773   -0.041550   -0.060274   -0.454706   -1.069452   \n",
            "1     -0.004745   -0.004079   -0.230597   -0.204886   -0.454706   -1.090121   \n",
            "2     -0.299290   -0.850506   -2.197565   -2.073759   -0.454706   -1.386378   \n",
            "3      0.737412    0.535749    0.179803    0.219672   -0.454706   -1.314036   \n",
            "4      0.701675    0.596799    0.244450    0.217013   -0.454706   -1.314036   \n",
            "..          ...         ...         ...         ...         ...         ...   \n",
            "725   -0.045072   -0.335644   -1.784119   -1.806025   -0.454706   -1.203801   \n",
            "726   -0.010078   -0.021815    0.007374   -0.035072   -0.454706   -1.024668   \n",
            "727   -0.477039   -0.348674    0.204842    0.261009   -0.454706   -1.172797   \n",
            "728    0.429780    0.156610    0.099108    0.253339   -0.454706   -1.072896   \n",
            "729   -0.073756   -0.126264   -0.031131   -0.008188   -0.454706   -1.128014   \n",
            "\n",
            "     uswrf_s3_1  uswrf_s4_1  uswrf_s5_1  \n",
            "0     -0.759916   -0.398309   -0.689346  \n",
            "1     -0.795644   -0.514461   -0.800259  \n",
            "2     -1.921079   -2.617046   -2.331406  \n",
            "3     -1.569753   -1.254040   -1.303428  \n",
            "4     -1.837714   -2.534081   -2.312469  \n",
            "..          ...         ...         ...  \n",
            "725   -1.403022   -2.297036   -2.142041  \n",
            "726   -0.468136    0.106595   -0.364721  \n",
            "727   -0.908783   -0.504980   -0.781323  \n",
            "728   -0.852213   -0.519202   -0.786733  \n",
            "729   -0.965352   -0.614020   -0.862479  \n",
            "\n",
            "[730 rows x 75 columns]\n"
          ]
        }
      ],
      "source": [
        "import numpy as np\n",
        "from sklearn.impute import SimpleImputer\n",
        "from sklearn.neighbors import KNeighborsClassifier, KNeighborsRegressor\n",
        "\n",
        "# Estandarizamos los datos de entrada de los conjuntos de entrenamiento, validación y test\n",
        "ss = StandardScaler()\n",
        "X_train_set_estandar = ss.fit_transform(X_train_df)\n",
        "X_val_set_estandar = ss.fit_transform(X_val_df)\n",
        "X_test_set_estandar = ss.fit_transform(X_test_df)\n",
        "\n",
        "#Aquí se pierden las columnas por lo que han de ser recuperadas. \n",
        "columns = X_train_df.columns.values\n",
        "X_train_df_estandar = pd.DataFrame(X_train_set_estandar, columns=columns)\n",
        "X_val_df_estandar = pd.DataFrame(X_val_set_estandar, columns=columns)\n",
        "X_test_df_estandar = pd.DataFrame(X_test_set_estandar, columns=columns)\n",
        "\n",
        "print(X_train_df_estandar)\n",
        "print(X_val_df_estandar)\n",
        "print(X_test_df_estandar)\n",
        "\n",
        "y_train_ndarray = y_train_df.values\n",
        "\n",
        "\n",
        "\n",
        "#Eliminamos valores ausentes\n",
        "missing_values = np.isnan(X_train_set_estandar)\n",
        "if np.any(missing_values):\n",
        "    # Impute missing values with mean imputation\n",
        "    imputer = SimpleImputer(missing_values=np.nan, strategy='mean')\n",
        "    X_train_df_estandar = imputer.fit_transform(X_train_df_estandar)\n",
        "\n",
        " \n",
        "\n"
      ]
    },
    {
      "cell_type": "markdown",
      "source": [
        "## K-NN Execution\n"
      ],
      "metadata": {
        "id": "-XVL_vxCwBM6"
      }
    },
    {
      "cell_type": "code",
      "source": [
        "# Here, we set our model to KNN with k=5\n",
        "clf_KNN = KNeighborsRegressor()\n",
        "\n",
        "#We train it\n",
        "clf_KNN.fit(X_train_df_estandar.values, y_train_df.values.flatten())\n",
        "\n",
        "\n",
        "# We obtain predictions on the val set\n",
        "y_val_pred = clf_KNN.predict(X_val_df_estandar)\n",
        "\n",
        "# Calculate mean absolute error (MAE)\n",
        "print(y_val_df.values.flatten()) \n",
        "      \n",
        "print(y_val_pred)\n",
        "mae = mean_absolute_error(y_val_df.values.flatten(), y_val_pred)\n",
        "\n",
        "# Calculate mean squared error (MSE)\n",
        "mse = mean_squared_error(y_val_df, y_val_pred)\n",
        "\n",
        "print(type(y_val_pred.astype(int)[0]))\n",
        "print(y_val_pred.astype(int))\n",
        "\n",
        "# Calculate R-squared score\n",
        "#r2 = r2_score(y_val_df.values.flatten(), y_val_pred.astype(int))\n",
        "\n",
        "\n",
        "print(\"6889559.834828299\")\n",
        "print(\"MAE: \",mae)\n",
        "print(\"MAE difference with Dummy\", mae-66889559.834828299)\n",
        "print(\"MSE: \",mse)\n",
        "print(\"MSE difference with Dummy\", mse-63181800761365.26)\n",
        "#print(\"R2: \",r2)\n",
        "\n"
      ],
      "metadata": {
        "colab": {
          "base_uri": "https://localhost:8080/"
        },
        "id": "ltc__0vDwBhm",
        "outputId": "8c03bc2b-f926-4d38-dba8-10b5c941106d"
      },
      "execution_count": 50,
      "outputs": [
        {
          "output_type": "stream",
          "name": "stderr",
          "text": [
            "/usr/local/lib/python3.9/dist-packages/sklearn/base.py:432: UserWarning: X has feature names, but KNeighborsRegressor was fitted without feature names\n",
            "  warnings.warn(\n"
          ]
        },
        {
          "output_type": "stream",
          "name": "stdout",
          "text": [
            "[ 3991800 12313200  9034500 10980000 12767400 10368000  1451100  8116800\n",
            " 12311700 10316100 11017500  2552700 13047300 12868200 10141200 13366500\n",
            " 13112400  3459600   868800  3798600  5346300 11014500 13977900  6637800\n",
            "  8221800  5742900 14365200 14390400 13305300 13726200  5763900  1889700\n",
            "  1748700 15181200 11770500  8137800 10821900  2848200  2310600 11347200\n",
            " 15068100  9966900  4858200 17116200 16653900 15293100 14791500  8146200\n",
            " 17562000 14540400 11147400  6211200 17061000 16573500 18832200 17291700\n",
            " 15899700  2707800 16879800 20551500 20323200  5394600  7878000 21871200\n",
            " 21298500 21176100 12266100  6456600  5476800 22479900 21954000  3056400\n",
            " 20292000 20033400 19861500  4309200  9626100  9378600  3829800  1583700\n",
            " 17917500 17320800 23672700 22510500  4897500  2260500 10355100 22966200\n",
            " 22000200 17073600  3305100 23749200 24539700  9051000 25378500 25035000\n",
            " 24867300 13528200   836700  5257800 25273500 26135400 19941900 21351000\n",
            " 12171300 23834100 21785700  7821300 24575100 18037200 10103100 14069700\n",
            " 13785600 27625500 14996100 19417500 25443900  7556400 11542800 28018500\n",
            " 18544500 19513500 25217700  8919000  7626600 22389000 24725400 18564900\n",
            " 22613400  9213000 28651500 15400800 18554100  6123600 27668700 30482700\n",
            " 18713700  9619200  4431900 29742900 28435200 16398900 27646500 29538000\n",
            " 19509600 15041400 19546800 21737100  8917800  9128100 16774200 24681300\n",
            " 26491500 28458000 29221800 29132100 27236400 15248100 30164100 28179900\n",
            " 24298800 23708400 22275600 24381600 18875400 15029100 31008600 29813100\n",
            " 21725400 28029300 21696900 28480200 27462900 26540700 29190300 29336700\n",
            " 24861300 21063000 23835900 24936300 26316000 22124100 20432100 10341300\n",
            " 11621700 19524000 25877100 26641200 23598300 27371700 27833100 24515100\n",
            " 26489100 22093800 20371500 17540400 11405400 26942400 23114100 12345300\n",
            " 13529100 22908300 26060700 27453300 27372600 26113800 25121700 27992700\n",
            " 26795100 28286100 25202700 13827300 23484300 24671400 25763100 16181100\n",
            " 27135900 24742500 26287500 22978500 20080500 27463500 27376200 14461200\n",
            " 23478000 17413500  4118100 12532800 21487800 25548600 23691000 25029000\n",
            " 25387200 24013200 23209800 24684000 24573600 13491300 21441000 25098600\n",
            " 20547300 23037900 23204700 19821600 20968500 19018800 20564400 23046300\n",
            " 23004600 20836800 21894300 22002900  9743100 18458400 22111200 20914200\n",
            " 16453200 19304700 10682700  9629700 13446300 17154900 18255000  7860600\n",
            " 18584400 21810600 21614100 21759000 21442500 18279600 21195300 20025000\n",
            " 19363200 19384200 17684100 18460500 12886800 12931800 18917400 20149500\n",
            "  7960500 17147400  4466100  3092100  5520300  5907000 10109700 15337800\n",
            " 13617600 18401100  8445300 17313300  6056400  1586700  2925000  7666800\n",
            " 12192000  6785700  4342200  3202800  9054900  3703800  3212100  3291600\n",
            "  3277800  9425700  3132600  1171500  2838600 11584800  2110500 14731200\n",
            " 14679900 13706100 11852400  8209500 13689600 12017100 13822200  2480400\n",
            "  4859700  9882300 13038900 10836000 13204200 11081100 12390900 12606300\n",
            " 12376500  7553400  4305000 12052500 11908800 12112200  9637800 12270000\n",
            " 12114900 10771200  1917300   831000 11898300 11730600 10612200  4484400\n",
            "  3218100  5584200  3352200  2525400  2213400 11356200 11247000  5980800\n",
            "  6860100  2874000  6735300 11573100  9771000  9262200   579600  3444000\n",
            " 11436900  6149100 11359800 10646700  6606900  1555800 11718900 11084400\n",
            "  8393700 11425800 11348700 10681500  9969600 11271600 10975800  7937100\n",
            " 12605700  9498600  4256400  6512700 10885200  8125200  2178900 13749300\n",
            " 11268000 12883200 12824400  3790800  4265400 11234700  9644700 10104600\n",
            "  9987300 12534300  2917200  3187800  7692900 11313300 12930600 11791800\n",
            "  3690600 15108900  6602400  1753200 16339800 15420600  4328700 13781100\n",
            " 15728100 16053000  2451600  6721500  1560600  2771700 14641800  6201300\n",
            "  9564000  5817900  3660300  3303600  1373100 10119000  6464100  4843500\n",
            "  4675200  3752400  4465500 16682400 18462000 11439300  2872200 18946800\n",
            " 19810500 15539100 19566900  8038200 12036000 10782600 13788000 19821000\n",
            " 21015300 16105800 20091900  5568000 13358400  2613600 21933000 21885900\n",
            " 22708200 22439400  7137300 23671200 20433300  2945100 22208100 23346000\n",
            " 23936100 24442200 22734000  9809100 16882200 23365800  5823000 25136100\n",
            "  4663800 25638000 26367000 23497500 24770700 25375200 23917200 17301000\n",
            " 13669500 24916800 25283100  6366900 21105600 27328800 24339300 14975100\n",
            " 24675000  5871000 20212200 26072700 17356800 21374400 24771900 20692500\n",
            " 18019800 19023000 10458900 21496500 20570100 25452900 12926400 10421400\n",
            "  6387300 28785000 28832700  8621400 19654800 22341000  5103300 10572300\n",
            " 25733100 27203700 12594000  9230400 27048000 20937600  9891300 10691100\n",
            " 26290800 27121800 26214300 28586100 28115400 27175500 23889300 15360900\n",
            " 19548900 13615800  8980200 14548200 28294800 28125600 26575800 18006300\n",
            " 22308000 17671500 24370500 17278800 25302600 17529000 15576300 14488800\n",
            " 27000300 25004400 26761500 27251700 25366200 24277200 25152000 13125000\n",
            " 29854500 27152700 27892800 20400000 21782700 24315300 26006100 24238200\n",
            " 25752600 22589100 20722200 21520800 23492100 20189400 27958800 23890200\n",
            " 24077700 27357600 27304500 26920200 25329900 27116400 11702100 15798600\n",
            " 25830900 16004700 26796900 27069300 27253500 23994600 26339100 26535900\n",
            " 22691400 14249700 24591900 22161600 18108600 20889000 14106900 16796400\n",
            " 22890000 22567200 23781300 24294000 17563200 19854000 18852000 11555100\n",
            " 23034600 24070200 24894600 24625200 21747300 22925100 23144700 22776300\n",
            " 22596600 20652300 22472400 18003000 18591300 22710900 15737400  3477000\n",
            " 14686200 10383600  5781900  6708300  7226100 22638300 24428400 24356100\n",
            " 23554200 20373300 21840000 20726400  6361200  4998300  9161400 20428200\n",
            " 23434500 20157000 21288900 16809000 22546200 20916000 14187300 19192200\n",
            " 15094800 20317800 15497700 17569500 17583900 20672700 13157100  7031100\n",
            " 17645700 19449900 13696200 13312500  4693500  6817800 10936500 15690000\n",
            "  7659300 14537700 13988100 18294600  9041700 18363600 18209700 17065500\n",
            " 16503900 17228400 16977000 16782000 16254900 16649700 13123500 15956700\n",
            "  2850900 15215700 16604400  8904900 16058700 12276300  9773100 12952500\n",
            " 11830500  9315000  8631900  2109300  3054600  2666100  4954500  4635300\n",
            "  4022100  8807700  7731300  4741200  1679100  3547200  4601700  1294800\n",
            "  5783700 13710600 13457400 13217700  8156400  7260900 13417200  9659100\n",
            "  3482700  2403000 12911100 12632100 12428400 12122700  6782700  2262000\n",
            "  4728600  3759900 11915400  9653400  9093600  1829400 12031800 11759400\n",
            "  8919900  1265700  7845300 10260000  3698700 11577600 11623200 11769300\n",
            " 11442300  9936000  2469000 11613000 11574600 10331700  6972300  2376600\n",
            "  2821200 11875500]\n",
            "[ 6214200.  11820060.  11106480.  11530980.  11302440.   8940960.\n",
            "  1249320.   4353420.  12065700.  11955720.  12141540.   1732980.\n",
            " 11336640.  12626940.  11675880.  11857800.  12067320.   4421340.\n",
            "  5375640.   5772300.  11618220.   9780960.  13497300.   8932080.\n",
            "  5618340.   4371180.  12228060.  13427700.  12457500.  12139646.4\n",
            "  2131260.   2011620.   4497960.  12281700.  12132060.   8727720.\n",
            " 11884080.   2269920.   2110500.  14631000.  14259900.  11958780.\n",
            "  9359160.  15945420.  13593000.  14505060.  13060500.   8909760.\n",
            " 17435280.  14117760.  13418100.   4229820.  15218280.  11565060.\n",
            " 17529780.  14998080.  16996080.  13271220.  16822980.  17452560.\n",
            " 19323300.   3680880.   3847020.  13108740.  11845680.  19777560.\n",
            "  4045320.   6093900.   4349400.  16398120.  20554920.   5305800.\n",
            " 20900760.  21187200.  19784100.   5170140.  16438020.   5167920.\n",
            "  3305100.    998100.  20109540.  19216680.  19102980.  22383840.\n",
            "  4844340.   3642480.  20842440.  22930920.  22460580.  18065460.\n",
            "  2051400.  22246140.  24290940.   8881860.  23083920.  23083920.\n",
            " 25561740.  19215360.   3817200.   5272320.  17435400.  25532760.\n",
            " 15829200.  18277560.  11622000.  24704580.  20886000.  11033040.\n",
            " 14715480.  16546800.  10898880.  14896380.  14551500.  26109960.\n",
            " 18397560.  16298400.  23897940.   5617440.  14658300.  25089300.\n",
            " 21513540.  10315380.  22297380.  15373860.   8088000.  23671200.\n",
            " 20985900.  16957500.  16644360.   8369160.  11196720.  10298040.\n",
            " 15173640.   7100760.  29129940.  29242920.  23539200.  15949500.\n",
            " 11327580.  29129940.  26308380.  23037960.  23225280.  26484180.\n",
            " 13456320.  13227000.  14489160.  24720540.  16997160.  13048440.\n",
            " 20710560.  22859160.  22811400.  23455080.  26981400.  28381620.\n",
            " 26573280.  11981460.  26085240.  23277780.  23946600.  13165680.\n",
            " 21332520.  26487780.  27078540.  14790960.  28112400.  24502680.\n",
            " 19405320.  25495500.  22591320.  25121220.  25506900.  26361120.\n",
            " 29080320.  29412960.  26027700.  21238800.  24014040.  24069540.\n",
            " 24111060.  23649540.  20954280.   9103980.   8591940.  21361200.\n",
            " 21034980.  25213740.  25449720.  26493420.  27143520.  27135960.\n",
            " 25885740.  17417460.  23611080.  21721260.  18191760.  25015260.\n",
            " 20001060.  18081540.  22795860.  26444220.  25316340.  24962340.\n",
            " 24587040.  23656740.  23904420.  25489500.  26174280.  25189080.\n",
            " 22482240.  12258060.  25327560.  24422160.  26371440.  23623620.\n",
            " 25887120.  25427460.  24481740.  23452800.  22934940.  26597280.\n",
            " 26348280.  20420880.  23902080.  17194560.   6997560.  21569940.\n",
            " 20067480.  22691400.  21099840.  18866400.  25720860.  23894580.\n",
            " 24568140.  25601100.  20734920.  21372180.  19366440.  22105140.\n",
            " 22937760.  22542420.  22971240.  23285580.  20896200.  22266240.\n",
            " 22947840.  22431600.  22940220.  20037086.4 20685686.4 22632240.\n",
            " 19768680.  21727680.  21726960.  18840000.  17111160.  22552020.\n",
            " 11418480.  10785060.  12516300.  19814940.  19256880.   4844040.\n",
            " 20545620.  20904000.  21342720.  22101960.  21715800.  22829580.\n",
            " 21842520.  20228400.  19848300.  19618680.  18431520.  18758220.\n",
            " 18588960.  18673980.  16907220.  20412360.  13939560.  18755580.\n",
            "  8245560.  11893080.  16272240.  14909700.   7358820.  11848080.\n",
            " 15364920.  18702540.   6850320.  16704900.  10136280.  12713760.\n",
            " 13893060.  14048760.  12636480.   3978180.  11363100.   8772720.\n",
            " 13071360.   3553440.   5487960.  10163940.   9192120.   5652660.\n",
            " 11884980.   3107760.   5927640.  12243540.   9089940.  12156840.\n",
            " 14005680.  11533800.   9357840.   8704140.  13078920.  13506120.\n",
            " 14359140.  10931040.  11708460.  12827160.  11972700.  12184140.\n",
            " 15138360.  11604720.  12312300.  10276980.  12204540.  10710060.\n",
            "  8852220.   9943920.  10878960.  12167760.   8449920.  13078200.\n",
            " 12398520.  12626040.   1243980.   2181120.   4572720.  12803220.\n",
            " 11749140.   3394560.   2000460.   8501460.  12038760.   4486620.\n",
            "  4928820.  11841000.  11490480.   6524820.   9096780.   9453900.\n",
            "  6504720.  11941500.  11979300.  11815680.   1848360.   5455740.\n",
            " 12857100.   6756600.  13076040.  12544140.  12318540.   3614160.\n",
            " 11977080.  11869920.   6142200.  11801220.  12574860.   8037240.\n",
            "  9790920.  12114000.  11667360.   6713520.  12591360.   7860300.\n",
            "  7924740.  11056680.   9445200.   8322480.   5422200.  10319100.\n",
            "  8465880.  10875300.  12769920.   2651340.   3544320.  10479840.\n",
            " 11532360.   9070620.   8306520.  12087060.   9639840.   7248960.\n",
            " 12984180.  11179740.  13159680.  11832780.   7704240.  12072180.\n",
            " 11664300.   2399520.  10481820.   9825240.   3263820.  14405340.\n",
            " 11860140.  12801000.   2807760.  10830120.   8297580.   2260140.\n",
            " 12536760.   5759460.   4649820.   9761100.   7814880.   6117180.\n",
            "  3021180.   6725340.  11723880.   7142220.   5723820.   6024780.\n",
            "  6725880.  14358840.  15043200.   4348380.  13763820.  19143120.\n",
            " 16287900.  13030500.  19765260.  10940340.  12768240.   8573460.\n",
            " 12709560.  21950880.  19280460.  12604380.  19050480.   3643260.\n",
            " 10636020.   7404240.  20512320.  21795960.  21558840.  21694500.\n",
            "  4337700.  22459740.  19723860.   4453140.  21597540.  23083920.\n",
            " 25838700.  24392880.  21854400.   8316720.  18207000.  21393780.\n",
            "  5650320.  22048980.  16705860.  25349400.  24564540.  25166880.\n",
            " 24540420.  24891360.  24041520.  19889280.  12978720.  19678440.\n",
            " 23731260.   9357000.  23850840.  26599980.  26075640.   8619960.\n",
            " 23236860.   7898940.  24124560.  24724200.  18929880.  25178820.\n",
            " 19087080.  14621820.  17460480.  16775520.   9952140.  25391100.\n",
            " 19015020.  23899200.  19256880.  18272580.  17397780.  28963980.\n",
            " 28782360.  19687020.  12683580.  20018940.   5759760.   5459520.\n",
            " 25591200.  20188020.  11723700.  17507940.  24324000.  26983440.\n",
            " 18440640.  25051260.  27212700.  28950180.  26491920.  27310620.\n",
            " 28420260.  22197360.  23119620.  12800040.  25895220.  23639460.\n",
            " 12785760.  14423400.  26962920.  26196720.  25664520.  17890020.\n",
            " 19565100.   9984360.  24285660.  25615440.  24379380.  25202280.\n",
            " 24228780.  11841060.  24571140.  22530840.  24648540.  27244560.\n",
            " 28023780.  21714480.  16702740.  18668700.  29738820.  28881180.\n",
            " 26032380.  24167520.  26341920.  28440960.  28595880.  28095600.\n",
            " 27980700.  23862060.  18785880.  21414660.  25130520.  25813740.\n",
            " 27413100.  21194520.  27900480.  27865140.  28248600.  26832360.\n",
            " 23927940.  26500320.  24726900.  22246860.  26545260.  23333280.\n",
            " 25323360.  25856640.  24820260.  22862760.  23208240.  25256580.\n",
            " 21097680.  21292020.  22935986.4 25452960.  16542720.  23234160.\n",
            " 20095380.  17179980.  26304540.  25267380.  26261340.  20653260.\n",
            " 23117580.  24469920.  20798580.  16718640.  23953320.  24535920.\n",
            " 22282020.  24073740.  22187040.  23785500.  24520920.  22980420.\n",
            " 22950540.  24245820.  24284340.  24403140.  19974180.  21210420.\n",
            " 21489360.  15641580.  12071160.   9839220.   7408020.  14057580.\n",
            " 18407340.  16277460.  23115840.  23242500.  23508840.  21730680.\n",
            " 20016840.  19977780.  10451940.   9864480.   7190280.  16299120.\n",
            " 22147380.  17152500.  15691620.  14280300.  21254460.  21032580.\n",
            " 11702340.  15663180.  16423140.  18933420.  16511160.  17606400.\n",
            " 20261700.  19495260.  17214420.   9735420.  19196520.  20134680.\n",
            " 10787400.  13832340.  13042800.  18082080.  15164280.   8015700.\n",
            "  7911420.  13746480.  13462800.  19827060.  12797880.  17726460.\n",
            " 18564600.  15101280.  17970300.  17266980.  17689740.  18145500.\n",
            " 17614620.  17596260.  14801040.  16934940.   3594960.  11947860.\n",
            " 14298780.  11221740.  16197180.  12160740.   3696960.  10137720.\n",
            " 14743680.   9572520.   7159320.   4199220.  10349280.   5002680.\n",
            "  2667180.   5680260.   9624720.   5762040.   7877880.   6347820.\n",
            "  3416160.   8698500.  11929620.   3728460.   4276920.  13048440.\n",
            " 12772560.  13418640.   7366440.   7986120.  12901800.   8429340.\n",
            "  4732260.   2504580.  11495160.  11604600.  11882820.  13207500.\n",
            " 10224540.   2580840.  11914860.   9943920.  12358860.  10881720.\n",
            "  9270840.   4025640.   5811180.  11119920.   6650220.   3131940.\n",
            " 11669400.  11157540.   8580840.  11699100.  11503740.  11610180.\n",
            " 11625360.  11711640.   2554800.  10283280.  11411100.  10931640.\n",
            "  4816740.   2897580.   2874060.  12372780. ]\n",
            "<class 'numpy.int64'>\n",
            "[ 6214200 11820060 11106480 11530980 11302440  8940960  1249320  4353420\n",
            " 12065700 11955720 12141540  1732980 11336640 12626940 11675880 11857800\n",
            " 12067320  4421340  5375640  5772300 11618220  9780960 13497300  8932080\n",
            "  5618340  4371180 12228060 13427700 12457500 12139646  2131260  2011620\n",
            "  4497960 12281700 12132060  8727720 11884080  2269920  2110500 14631000\n",
            " 14259900 11958780  9359160 15945420 13593000 14505060 13060500  8909760\n",
            " 17435280 14117760 13418100  4229820 15218280 11565060 17529780 14998080\n",
            " 16996080 13271220 16822980 17452560 19323300  3680880  3847020 13108740\n",
            " 11845680 19777560  4045320  6093900  4349400 16398120 20554920  5305800\n",
            " 20900760 21187200 19784100  5170140 16438020  5167920  3305100   998100\n",
            " 20109540 19216680 19102980 22383840  4844340  3642480 20842440 22930920\n",
            " 22460580 18065460  2051400 22246140 24290940  8881860 23083920 23083920\n",
            " 25561740 19215360  3817200  5272320 17435400 25532760 15829200 18277560\n",
            " 11622000 24704580 20886000 11033040 14715480 16546800 10898880 14896380\n",
            " 14551500 26109960 18397560 16298400 23897940  5617440 14658300 25089300\n",
            " 21513540 10315380 22297380 15373860  8088000 23671200 20985900 16957500\n",
            " 16644360  8369160 11196720 10298040 15173640  7100760 29129940 29242920\n",
            " 23539200 15949500 11327580 29129940 26308380 23037960 23225280 26484180\n",
            " 13456320 13227000 14489160 24720540 16997160 13048440 20710560 22859160\n",
            " 22811400 23455080 26981400 28381620 26573280 11981460 26085240 23277780\n",
            " 23946600 13165680 21332520 26487780 27078540 14790960 28112400 24502680\n",
            " 19405320 25495500 22591320 25121220 25506900 26361120 29080320 29412960\n",
            " 26027700 21238800 24014040 24069540 24111060 23649540 20954280  9103980\n",
            "  8591940 21361200 21034980 25213740 25449720 26493420 27143520 27135960\n",
            " 25885740 17417460 23611080 21721260 18191760 25015260 20001060 18081540\n",
            " 22795860 26444220 25316340 24962340 24587040 23656740 23904420 25489500\n",
            " 26174280 25189080 22482240 12258060 25327560 24422160 26371440 23623620\n",
            " 25887120 25427460 24481740 23452800 22934940 26597280 26348280 20420880\n",
            " 23902080 17194560  6997560 21569940 20067480 22691400 21099840 18866400\n",
            " 25720860 23894580 24568140 25601100 20734920 21372180 19366440 22105140\n",
            " 22937760 22542420 22971240 23285580 20896200 22266240 22947840 22431600\n",
            " 22940220 20037086 20685686 22632240 19768680 21727680 21726960 18840000\n",
            " 17111160 22552020 11418480 10785060 12516300 19814940 19256880  4844040\n",
            " 20545620 20904000 21342720 22101960 21715800 22829580 21842520 20228400\n",
            " 19848300 19618680 18431520 18758220 18588960 18673980 16907220 20412360\n",
            " 13939560 18755580  8245560 11893080 16272240 14909700  7358820 11848080\n",
            " 15364920 18702540  6850320 16704900 10136280 12713760 13893060 14048760\n",
            " 12636480  3978180 11363100  8772720 13071360  3553440  5487960 10163940\n",
            "  9192120  5652660 11884980  3107760  5927640 12243540  9089940 12156840\n",
            " 14005680 11533800  9357840  8704140 13078920 13506120 14359140 10931040\n",
            " 11708460 12827160 11972700 12184140 15138360 11604720 12312300 10276980\n",
            " 12204540 10710060  8852220  9943920 10878960 12167760  8449920 13078200\n",
            " 12398520 12626040  1243980  2181120  4572720 12803220 11749140  3394560\n",
            "  2000460  8501460 12038760  4486620  4928820 11841000 11490480  6524820\n",
            "  9096780  9453900  6504720 11941500 11979300 11815680  1848360  5455740\n",
            " 12857100  6756600 13076040 12544140 12318540  3614160 11977080 11869920\n",
            "  6142200 11801220 12574860  8037240  9790920 12114000 11667360  6713520\n",
            " 12591360  7860300  7924740 11056680  9445200  8322480  5422200 10319100\n",
            "  8465880 10875300 12769920  2651340  3544320 10479840 11532360  9070620\n",
            "  8306520 12087060  9639840  7248960 12984180 11179740 13159680 11832780\n",
            "  7704240 12072180 11664300  2399520 10481820  9825240  3263820 14405340\n",
            " 11860140 12801000  2807760 10830120  8297580  2260140 12536760  5759460\n",
            "  4649820  9761100  7814880  6117180  3021180  6725340 11723880  7142220\n",
            "  5723820  6024780  6725880 14358840 15043200  4348380 13763820 19143120\n",
            " 16287900 13030500 19765260 10940340 12768240  8573460 12709560 21950880\n",
            " 19280460 12604380 19050480  3643260 10636020  7404240 20512320 21795960\n",
            " 21558840 21694500  4337700 22459740 19723860  4453140 21597540 23083920\n",
            " 25838700 24392880 21854400  8316720 18207000 21393780  5650320 22048980\n",
            " 16705860 25349400 24564540 25166880 24540420 24891360 24041520 19889280\n",
            " 12978720 19678440 23731260  9357000 23850840 26599980 26075640  8619960\n",
            " 23236860  7898940 24124560 24724200 18929880 25178820 19087080 14621820\n",
            " 17460480 16775520  9952140 25391100 19015020 23899200 19256880 18272580\n",
            " 17397780 28963980 28782360 19687020 12683580 20018940  5759760  5459520\n",
            " 25591200 20188020 11723700 17507940 24324000 26983440 18440640 25051260\n",
            " 27212700 28950180 26491920 27310620 28420260 22197360 23119620 12800040\n",
            " 25895220 23639460 12785760 14423400 26962920 26196720 25664520 17890020\n",
            " 19565100  9984360 24285660 25615440 24379380 25202280 24228780 11841060\n",
            " 24571140 22530840 24648540 27244560 28023780 21714480 16702740 18668700\n",
            " 29738820 28881180 26032380 24167520 26341920 28440960 28595880 28095600\n",
            " 27980700 23862060 18785880 21414660 25130520 25813740 27413100 21194520\n",
            " 27900480 27865140 28248600 26832360 23927940 26500320 24726900 22246860\n",
            " 26545260 23333280 25323360 25856640 24820260 22862760 23208240 25256580\n",
            " 21097680 21292020 22935986 25452960 16542720 23234160 20095380 17179980\n",
            " 26304540 25267380 26261340 20653260 23117580 24469920 20798580 16718640\n",
            " 23953320 24535920 22282020 24073740 22187040 23785500 24520920 22980420\n",
            " 22950540 24245820 24284340 24403140 19974180 21210420 21489360 15641580\n",
            " 12071160  9839220  7408020 14057580 18407340 16277460 23115840 23242500\n",
            " 23508840 21730680 20016840 19977780 10451940  9864480  7190280 16299120\n",
            " 22147380 17152500 15691620 14280300 21254460 21032580 11702340 15663180\n",
            " 16423140 18933420 16511160 17606400 20261700 19495260 17214420  9735420\n",
            " 19196520 20134680 10787400 13832340 13042800 18082080 15164280  8015700\n",
            "  7911420 13746480 13462800 19827060 12797880 17726460 18564600 15101280\n",
            " 17970300 17266980 17689740 18145500 17614620 17596260 14801040 16934940\n",
            "  3594960 11947860 14298780 11221740 16197180 12160740  3696960 10137720\n",
            " 14743680  9572520  7159320  4199220 10349280  5002680  2667180  5680260\n",
            "  9624720  5762040  7877880  6347820  3416160  8698500 11929620  3728460\n",
            "  4276920 13048440 12772560 13418640  7366440  7986120 12901800  8429340\n",
            "  4732260  2504580 11495160 11604600 11882820 13207500 10224540  2580840\n",
            " 11914860  9943920 12358860 10881720  9270840  4025640  5811180 11119920\n",
            "  6650220  3131940 11669400 11157540  8580840 11699100 11503740 11610180\n",
            " 11625360 11711640  2554800 10283280 11411100 10931640  4816740  2897580\n",
            "  2874060 12372780]\n",
            "6889559.834828299\n",
            "MAE:  2584351.663561644\n",
            "MAE difference with Dummy -64305208.17126666\n",
            "MSE:  13337365076859.818\n",
            "MSE difference with Dummy -49844435684505.44\n"
          ]
        }
      ]
    },
    {
      "cell_type": "markdown",
      "source": [
        "## K-NN busqueda de mejores hiperparámetros\n",
        "\n",
        "Los hiperparámetros a realizar búsqueda son los siguientes: \n",
        "\n",
        "\n",
        "\n",
        "*   K- número de vecinos (n_neighbors)\n",
        "*   Weights (distance, uniform)\n",
        "*   La métrica de distancia utilizada (por defecto, la distancia euclidiana)\n",
        "*   El radio de búsqueda (solo para el caso de K-NN de radio).\n",
        "*   El método de búsqueda de vecinos más cercanos (por defecto, un árbol KD).\n",
        "*   El valor de p (para distancias de Minkowski).\n",
        "\n",
        "\n",
        "La métrica de distancia utilizada en K-NN es una medida de similitud que se utiliza para determinar la distancia entre dos puntos de datos. La métrica de distancia por defecto en la mayoría de los casos es la distancia euclidiana, pero sklearn permite especificar otras métricas, como la distancia de Manhattan, la distancia de Minkowski, la distancia de Mahalanobis, entre otras.\n",
        "\n",
        "El radio de búsqueda es un hiperparámetro que se utiliza solo en el caso de K-NN de radio. En este caso, en lugar de buscar los k vecinos más cercanos, se buscan todos los puntos dentro de un radio especificado alrededor del punto de consulta. Este radio puede ser un valor fijo o puede ser un parámetro a ajustar.\n",
        "\n",
        "El método de búsqueda de vecinos más cercanos es un algoritmo utilizado para encontrar los k vecinos más cercanos a un punto de consulta. Sklearn proporciona varios métodos de búsqueda, como el método de árbol KD, el método de búsqueda de fuerza bruta, el método de bola de árbol, entre otros. El método de árbol KD es el método por defecto utilizado en sklearn debido a su eficiencia en espacios de alta dimensión.\n",
        "\n",
        "El valor de p es un parámetro utilizado en la distancia de Minkowski, que es una generalización de la distancia euclidiana y de la distancia de Manhattan. Si p=1, se utiliza la distancia de Manhattan, si p=2, se utiliza la distancia euclidiana, y para otros valores de p se utiliza la distancia de Minkowski. Este parámetro puede ser un hiperparámetro a ajustar para encontrar el valor óptimo que se ajuste a los datos.\n",
        "\n",
        "\n",
        "Realizaremos dos bloques: \n",
        "\n",
        "1.   Primer bloque: n_neighbors, weights, métrica de distancia, método de búsqueda. \n",
        "2.   Segundo bloque: radio de búsqueda aplicando KNN de radio, weights, métrica de distancia (modificar valor p), método de búsqueda. \n",
        "\n",
        "¿Hacemos Kfold?\n",
        "\n"
      ],
      "metadata": {
        "id": "erlR7tRpZiAJ"
      }
    },
    {
      "cell_type": "code",
      "source": [
        "#En este apartado haremos una búsqueda de los mejores hiperparámetros \n",
        "#Creamos las listas en las que haremos el análisis\n",
        "\n",
        "weights=['uniform', 'distance']\n",
        "distance = ['euclidean','manhattan','minkowski']\n",
        "\n",
        "\n",
        "\n"
      ],
      "metadata": {
        "id": "KAcHX2Q-ZhcO"
      },
      "execution_count": 51,
      "outputs": []
    },
    {
      "cell_type": "markdown",
      "metadata": {
        "id": "CU8wCUwbk16B"
      },
      "source": [
        "### Matriz de  Confusión asociada"
      ]
    },
    {
      "cell_type": "code",
      "execution_count": null,
      "metadata": {
        "colab": {
          "base_uri": "https://localhost:8080/",
          "height": 1000
        },
        "id": "2SEfVCTvk-el",
        "outputId": "bcfb7a17-a7de-4653-df9c-6248a59a423a"
      },
      "outputs": [
        {
          "output_type": "error",
          "ename": "KeyboardInterrupt",
          "evalue": "ignored",
          "traceback": [
            "\u001b[0;31m---------------------------------------------------------------------------\u001b[0m",
            "\u001b[0;31mKeyboardInterrupt\u001b[0m                         Traceback (most recent call last)",
            "\u001b[0;32m<ipython-input-10-d316a6f3ae15>\u001b[0m in \u001b[0;36m<module>\u001b[0;34m\u001b[0m\n\u001b[1;32m      8\u001b[0m \u001b[0;31m# Plot confusion matrix\u001b[0m\u001b[0;34m\u001b[0m\u001b[0;34m\u001b[0m\u001b[0m\n\u001b[1;32m      9\u001b[0m \u001b[0msns\u001b[0m\u001b[0;34m.\u001b[0m\u001b[0mset\u001b[0m\u001b[0;34m(\u001b[0m\u001b[0mfont_scale\u001b[0m\u001b[0;34m=\u001b[0m\u001b[0;36m1.4\u001b[0m\u001b[0;34m)\u001b[0m \u001b[0;31m# for label size\u001b[0m\u001b[0;34m\u001b[0m\u001b[0;34m\u001b[0m\u001b[0m\n\u001b[0;32m---> 10\u001b[0;31m \u001b[0msns\u001b[0m\u001b[0;34m.\u001b[0m\u001b[0mheatmap\u001b[0m\u001b[0;34m(\u001b[0m\u001b[0mcnf_matrix\u001b[0m\u001b[0;34m,\u001b[0m \u001b[0mannot\u001b[0m\u001b[0;34m=\u001b[0m\u001b[0;32mTrue\u001b[0m\u001b[0;34m,\u001b[0m \u001b[0mannot_kws\u001b[0m\u001b[0;34m=\u001b[0m\u001b[0;34m{\u001b[0m\u001b[0;34m\"size\"\u001b[0m\u001b[0;34m:\u001b[0m \u001b[0;36m16\u001b[0m\u001b[0;34m}\u001b[0m\u001b[0;34m,\u001b[0m \u001b[0mcmap\u001b[0m\u001b[0;34m=\u001b[0m\u001b[0;34m\"Blues\"\u001b[0m\u001b[0;34m,\u001b[0m \u001b[0mfmt\u001b[0m\u001b[0;34m=\u001b[0m\u001b[0;34m'g'\u001b[0m\u001b[0;34m)\u001b[0m \u001b[0;31m# font size\u001b[0m\u001b[0;34m\u001b[0m\u001b[0;34m\u001b[0m\u001b[0m\n\u001b[0m",
            "\u001b[0;32m/usr/local/lib/python3.9/dist-packages/seaborn/matrix.py\u001b[0m in \u001b[0;36mheatmap\u001b[0;34m(data, vmin, vmax, cmap, center, robust, annot, fmt, annot_kws, linewidths, linecolor, cbar, cbar_kws, cbar_ax, square, xticklabels, yticklabels, mask, ax, **kwargs)\u001b[0m\n\u001b[1;32m    457\u001b[0m     \u001b[0;32mif\u001b[0m \u001b[0msquare\u001b[0m\u001b[0;34m:\u001b[0m\u001b[0;34m\u001b[0m\u001b[0;34m\u001b[0m\u001b[0m\n\u001b[1;32m    458\u001b[0m         \u001b[0max\u001b[0m\u001b[0;34m.\u001b[0m\u001b[0mset_aspect\u001b[0m\u001b[0;34m(\u001b[0m\u001b[0;34m\"equal\"\u001b[0m\u001b[0;34m)\u001b[0m\u001b[0;34m\u001b[0m\u001b[0;34m\u001b[0m\u001b[0m\n\u001b[0;32m--> 459\u001b[0;31m     \u001b[0mplotter\u001b[0m\u001b[0;34m.\u001b[0m\u001b[0mplot\u001b[0m\u001b[0;34m(\u001b[0m\u001b[0max\u001b[0m\u001b[0;34m,\u001b[0m \u001b[0mcbar_ax\u001b[0m\u001b[0;34m,\u001b[0m \u001b[0mkwargs\u001b[0m\u001b[0;34m)\u001b[0m\u001b[0;34m\u001b[0m\u001b[0;34m\u001b[0m\u001b[0m\n\u001b[0m\u001b[1;32m    460\u001b[0m     \u001b[0;32mreturn\u001b[0m \u001b[0max\u001b[0m\u001b[0;34m\u001b[0m\u001b[0;34m\u001b[0m\u001b[0m\n\u001b[1;32m    461\u001b[0m \u001b[0;34m\u001b[0m\u001b[0m\n",
            "\u001b[0;32m/usr/local/lib/python3.9/dist-packages/seaborn/matrix.py\u001b[0m in \u001b[0;36mplot\u001b[0;34m(self, ax, cax, kws)\u001b[0m\n\u001b[1;32m    350\u001b[0m         \u001b[0;31m# Annotate the cells with the formatted values\u001b[0m\u001b[0;34m\u001b[0m\u001b[0;34m\u001b[0m\u001b[0m\n\u001b[1;32m    351\u001b[0m         \u001b[0;32mif\u001b[0m \u001b[0mself\u001b[0m\u001b[0;34m.\u001b[0m\u001b[0mannot\u001b[0m\u001b[0;34m:\u001b[0m\u001b[0;34m\u001b[0m\u001b[0;34m\u001b[0m\u001b[0m\n\u001b[0;32m--> 352\u001b[0;31m             \u001b[0mself\u001b[0m\u001b[0;34m.\u001b[0m\u001b[0m_annotate_heatmap\u001b[0m\u001b[0;34m(\u001b[0m\u001b[0max\u001b[0m\u001b[0;34m,\u001b[0m \u001b[0mmesh\u001b[0m\u001b[0;34m)\u001b[0m\u001b[0;34m\u001b[0m\u001b[0;34m\u001b[0m\u001b[0m\n\u001b[0m\u001b[1;32m    353\u001b[0m \u001b[0;34m\u001b[0m\u001b[0m\n\u001b[1;32m    354\u001b[0m \u001b[0;34m\u001b[0m\u001b[0m\n",
            "\u001b[0;32m/usr/local/lib/python3.9/dist-packages/seaborn/matrix.py\u001b[0m in \u001b[0;36m_annotate_heatmap\u001b[0;34m(self, ax, mesh)\u001b[0m\n\u001b[1;32m    261\u001b[0m                 \u001b[0mtext_kwargs\u001b[0m \u001b[0;34m=\u001b[0m \u001b[0mdict\u001b[0m\u001b[0;34m(\u001b[0m\u001b[0mcolor\u001b[0m\u001b[0;34m=\u001b[0m\u001b[0mtext_color\u001b[0m\u001b[0;34m,\u001b[0m \u001b[0mha\u001b[0m\u001b[0;34m=\u001b[0m\u001b[0;34m\"center\"\u001b[0m\u001b[0;34m,\u001b[0m \u001b[0mva\u001b[0m\u001b[0;34m=\u001b[0m\u001b[0;34m\"center\"\u001b[0m\u001b[0;34m)\u001b[0m\u001b[0;34m\u001b[0m\u001b[0;34m\u001b[0m\u001b[0m\n\u001b[1;32m    262\u001b[0m                 \u001b[0mtext_kwargs\u001b[0m\u001b[0;34m.\u001b[0m\u001b[0mupdate\u001b[0m\u001b[0;34m(\u001b[0m\u001b[0mself\u001b[0m\u001b[0;34m.\u001b[0m\u001b[0mannot_kws\u001b[0m\u001b[0;34m)\u001b[0m\u001b[0;34m\u001b[0m\u001b[0;34m\u001b[0m\u001b[0m\n\u001b[0;32m--> 263\u001b[0;31m                 \u001b[0max\u001b[0m\u001b[0;34m.\u001b[0m\u001b[0mtext\u001b[0m\u001b[0;34m(\u001b[0m\u001b[0mx\u001b[0m\u001b[0;34m,\u001b[0m \u001b[0my\u001b[0m\u001b[0;34m,\u001b[0m \u001b[0mannotation\u001b[0m\u001b[0;34m,\u001b[0m \u001b[0;34m**\u001b[0m\u001b[0mtext_kwargs\u001b[0m\u001b[0;34m)\u001b[0m\u001b[0;34m\u001b[0m\u001b[0;34m\u001b[0m\u001b[0m\n\u001b[0m\u001b[1;32m    264\u001b[0m \u001b[0;34m\u001b[0m\u001b[0m\n\u001b[1;32m    265\u001b[0m     \u001b[0;32mdef\u001b[0m \u001b[0m_skip_ticks\u001b[0m\u001b[0;34m(\u001b[0m\u001b[0mself\u001b[0m\u001b[0;34m,\u001b[0m \u001b[0mlabels\u001b[0m\u001b[0;34m,\u001b[0m \u001b[0mtickevery\u001b[0m\u001b[0;34m)\u001b[0m\u001b[0;34m:\u001b[0m\u001b[0;34m\u001b[0m\u001b[0;34m\u001b[0m\u001b[0m\n",
            "\u001b[0;32m/usr/local/lib/python3.9/dist-packages/matplotlib/axes/_axes.py\u001b[0m in \u001b[0;36mtext\u001b[0;34m(self, x, y, s, fontdict, **kwargs)\u001b[0m\n\u001b[1;32m    687\u001b[0m             \u001b[0;34m**\u001b[0m\u001b[0mkwargs\u001b[0m\u001b[0;34m,\u001b[0m\u001b[0;34m\u001b[0m\u001b[0;34m\u001b[0m\u001b[0m\n\u001b[1;32m    688\u001b[0m         }\n\u001b[0;32m--> 689\u001b[0;31m         \u001b[0mt\u001b[0m \u001b[0;34m=\u001b[0m \u001b[0mmtext\u001b[0m\u001b[0;34m.\u001b[0m\u001b[0mText\u001b[0m\u001b[0;34m(\u001b[0m\u001b[0mx\u001b[0m\u001b[0;34m,\u001b[0m \u001b[0my\u001b[0m\u001b[0;34m,\u001b[0m \u001b[0mtext\u001b[0m\u001b[0;34m=\u001b[0m\u001b[0ms\u001b[0m\u001b[0;34m,\u001b[0m \u001b[0;34m**\u001b[0m\u001b[0meffective_kwargs\u001b[0m\u001b[0;34m)\u001b[0m\u001b[0;34m\u001b[0m\u001b[0;34m\u001b[0m\u001b[0m\n\u001b[0m\u001b[1;32m    690\u001b[0m         \u001b[0mt\u001b[0m\u001b[0;34m.\u001b[0m\u001b[0mset_clip_path\u001b[0m\u001b[0;34m(\u001b[0m\u001b[0mself\u001b[0m\u001b[0;34m.\u001b[0m\u001b[0mpatch\u001b[0m\u001b[0;34m)\u001b[0m\u001b[0;34m\u001b[0m\u001b[0;34m\u001b[0m\u001b[0m\n\u001b[1;32m    691\u001b[0m         \u001b[0mself\u001b[0m\u001b[0;34m.\u001b[0m\u001b[0m_add_text\u001b[0m\u001b[0;34m(\u001b[0m\u001b[0mt\u001b[0m\u001b[0;34m)\u001b[0m\u001b[0;34m\u001b[0m\u001b[0;34m\u001b[0m\u001b[0m\n",
            "\u001b[0;32m/usr/local/lib/python3.9/dist-packages/matplotlib/_api/deprecation.py\u001b[0m in \u001b[0;36mwrapper\u001b[0;34m(*args, **kwargs)\u001b[0m\n\u001b[1;32m    452\u001b[0m                 \u001b[0;34m\"parameter will become keyword-only %(removal)s.\"\u001b[0m\u001b[0;34m,\u001b[0m\u001b[0;34m\u001b[0m\u001b[0;34m\u001b[0m\u001b[0m\n\u001b[1;32m    453\u001b[0m                 name=name, obj_type=f\"parameter of {func.__name__}()\")\n\u001b[0;32m--> 454\u001b[0;31m         \u001b[0;32mreturn\u001b[0m \u001b[0mfunc\u001b[0m\u001b[0;34m(\u001b[0m\u001b[0;34m*\u001b[0m\u001b[0margs\u001b[0m\u001b[0;34m,\u001b[0m \u001b[0;34m**\u001b[0m\u001b[0mkwargs\u001b[0m\u001b[0;34m)\u001b[0m\u001b[0;34m\u001b[0m\u001b[0;34m\u001b[0m\u001b[0m\n\u001b[0m\u001b[1;32m    455\u001b[0m \u001b[0;34m\u001b[0m\u001b[0m\n\u001b[1;32m    456\u001b[0m     \u001b[0;31m# Don't modify *func*'s signature, as boilerplate.py needs it.\u001b[0m\u001b[0;34m\u001b[0m\u001b[0;34m\u001b[0m\u001b[0m\n",
            "\u001b[0;32m/usr/local/lib/python3.9/dist-packages/matplotlib/text.py\u001b[0m in \u001b[0;36m__init__\u001b[0;34m(self, x, y, text, color, verticalalignment, horizontalalignment, multialignment, fontproperties, rotation, linespacing, rotation_mode, usetex, wrap, transform_rotates_text, parse_math, **kwargs)\u001b[0m\n\u001b[1;32m    166\u001b[0m         \u001b[0mself\u001b[0m\u001b[0;34m.\u001b[0m\u001b[0m_x\u001b[0m\u001b[0;34m,\u001b[0m \u001b[0mself\u001b[0m\u001b[0;34m.\u001b[0m\u001b[0m_y\u001b[0m \u001b[0;34m=\u001b[0m \u001b[0mx\u001b[0m\u001b[0;34m,\u001b[0m \u001b[0my\u001b[0m\u001b[0;34m\u001b[0m\u001b[0;34m\u001b[0m\u001b[0m\n\u001b[1;32m    167\u001b[0m         \u001b[0mself\u001b[0m\u001b[0;34m.\u001b[0m\u001b[0m_text\u001b[0m \u001b[0;34m=\u001b[0m \u001b[0;34m''\u001b[0m\u001b[0;34m\u001b[0m\u001b[0;34m\u001b[0m\u001b[0m\n\u001b[0;32m--> 168\u001b[0;31m         self._reset_visual_defaults(\n\u001b[0m\u001b[1;32m    169\u001b[0m             \u001b[0mtext\u001b[0m\u001b[0;34m=\u001b[0m\u001b[0mtext\u001b[0m\u001b[0;34m,\u001b[0m\u001b[0;34m\u001b[0m\u001b[0;34m\u001b[0m\u001b[0m\n\u001b[1;32m    170\u001b[0m             \u001b[0mcolor\u001b[0m\u001b[0;34m=\u001b[0m\u001b[0mcolor\u001b[0m\u001b[0;34m,\u001b[0m\u001b[0;34m\u001b[0m\u001b[0;34m\u001b[0m\u001b[0m\n",
            "\u001b[0;32m/usr/local/lib/python3.9/dist-packages/matplotlib/text.py\u001b[0m in \u001b[0;36m_reset_visual_defaults\u001b[0;34m(self, text, color, fontproperties, usetex, parse_math, wrap, verticalalignment, horizontalalignment, multialignment, rotation, transform_rotates_text, linespacing, rotation_mode)\u001b[0m\n\u001b[1;32m    202\u001b[0m         self.set_color(\n\u001b[1;32m    203\u001b[0m             color if color is not None else mpl.rcParams[\"text.color\"])\n\u001b[0;32m--> 204\u001b[0;31m         \u001b[0mself\u001b[0m\u001b[0;34m.\u001b[0m\u001b[0mset_fontproperties\u001b[0m\u001b[0;34m(\u001b[0m\u001b[0mfontproperties\u001b[0m\u001b[0;34m)\u001b[0m\u001b[0;34m\u001b[0m\u001b[0;34m\u001b[0m\u001b[0m\n\u001b[0m\u001b[1;32m    205\u001b[0m         \u001b[0mself\u001b[0m\u001b[0;34m.\u001b[0m\u001b[0mset_usetex\u001b[0m\u001b[0;34m(\u001b[0m\u001b[0musetex\u001b[0m\u001b[0;34m)\u001b[0m\u001b[0;34m\u001b[0m\u001b[0;34m\u001b[0m\u001b[0m\n\u001b[1;32m    206\u001b[0m         self.set_parse_math(parse_math if parse_math is not None else\n",
            "\u001b[0;32m/usr/local/lib/python3.9/dist-packages/matplotlib/text.py\u001b[0m in \u001b[0;36mset_fontproperties\u001b[0;34m(self, fp)\u001b[0m\n\u001b[1;32m   1316\u001b[0m             \u001b[0mabsolute\u001b[0m \u001b[0mpath\u001b[0m \u001b[0mto\u001b[0m \u001b[0ma\u001b[0m \u001b[0mfont\u001b[0m \u001b[0mfile\u001b[0m\u001b[0;34m.\u001b[0m\u001b[0;34m\u001b[0m\u001b[0;34m\u001b[0m\u001b[0m\n\u001b[1;32m   1317\u001b[0m         \"\"\"\n\u001b[0;32m-> 1318\u001b[0;31m         \u001b[0mself\u001b[0m\u001b[0;34m.\u001b[0m\u001b[0m_fontproperties\u001b[0m \u001b[0;34m=\u001b[0m \u001b[0mFontProperties\u001b[0m\u001b[0;34m.\u001b[0m\u001b[0m_from_any\u001b[0m\u001b[0;34m(\u001b[0m\u001b[0mfp\u001b[0m\u001b[0;34m)\u001b[0m\u001b[0;34m.\u001b[0m\u001b[0mcopy\u001b[0m\u001b[0;34m(\u001b[0m\u001b[0;34m)\u001b[0m\u001b[0;34m\u001b[0m\u001b[0;34m\u001b[0m\u001b[0m\n\u001b[0m\u001b[1;32m   1319\u001b[0m         \u001b[0mself\u001b[0m\u001b[0;34m.\u001b[0m\u001b[0mstale\u001b[0m \u001b[0;34m=\u001b[0m \u001b[0;32mTrue\u001b[0m\u001b[0;34m\u001b[0m\u001b[0;34m\u001b[0m\u001b[0m\n\u001b[1;32m   1320\u001b[0m \u001b[0;34m\u001b[0m\u001b[0m\n",
            "\u001b[0;32m/usr/local/lib/python3.9/dist-packages/matplotlib/font_manager.py\u001b[0m in \u001b[0;36m_from_any\u001b[0;34m(cls, arg)\u001b[0m\n\u001b[1;32m    618\u001b[0m         \u001b[0;34m-\u001b[0m \u001b[0ma\u001b[0m\u001b[0;31m \u001b[0m\u001b[0;31m`\u001b[0m\u001b[0mdict\u001b[0m\u001b[0;31m`\u001b[0m\u001b[0;34m:\u001b[0m \u001b[0mit\u001b[0m \u001b[0;32mis\u001b[0m \u001b[0mpassed\u001b[0m \u001b[0;32mas\u001b[0m\u001b[0;31m \u001b[0m\u001b[0;31m`\u001b[0m\u001b[0;31m`\u001b[0m\u001b[0;34m**\u001b[0m\u001b[0mkwargs\u001b[0m\u001b[0;31m`\u001b[0m\u001b[0;31m`\u001b[0m \u001b[0mto\u001b[0m\u001b[0;31m \u001b[0m\u001b[0;31m`\u001b[0m\u001b[0;34m.\u001b[0m\u001b[0mFontProperties\u001b[0m\u001b[0;31m`\u001b[0m\u001b[0;34m.\u001b[0m\u001b[0;34m\u001b[0m\u001b[0;34m\u001b[0m\u001b[0m\n\u001b[1;32m    619\u001b[0m         \"\"\"\n\u001b[0;32m--> 620\u001b[0;31m         \u001b[0;32mif\u001b[0m \u001b[0misinstance\u001b[0m\u001b[0;34m(\u001b[0m\u001b[0marg\u001b[0m\u001b[0;34m,\u001b[0m \u001b[0mcls\u001b[0m\u001b[0;34m)\u001b[0m\u001b[0;34m:\u001b[0m\u001b[0;34m\u001b[0m\u001b[0;34m\u001b[0m\u001b[0m\n\u001b[0m\u001b[1;32m    621\u001b[0m             \u001b[0;32mreturn\u001b[0m \u001b[0marg\u001b[0m\u001b[0;34m\u001b[0m\u001b[0;34m\u001b[0m\u001b[0m\n\u001b[1;32m    622\u001b[0m         \u001b[0;32melif\u001b[0m \u001b[0marg\u001b[0m \u001b[0;32mis\u001b[0m \u001b[0;32mNone\u001b[0m\u001b[0;34m:\u001b[0m\u001b[0;34m\u001b[0m\u001b[0;34m\u001b[0m\u001b[0m\n",
            "\u001b[0;31mKeyboardInterrupt\u001b[0m: "
          ]
        },
        {
          "output_type": "stream",
          "name": "stdout",
          "text": [
            "Error in callback <function _draw_all_if_interactive at 0x7f838a619ee0> (for post_execute):\n"
          ]
        },
        {
          "output_type": "error",
          "ename": "KeyboardInterrupt",
          "evalue": "ignored",
          "traceback": [
            "\u001b[0;31m---------------------------------------------------------------------------\u001b[0m",
            "\u001b[0;31mKeyboardInterrupt\u001b[0m                         Traceback (most recent call last)",
            "\u001b[0;32m/usr/local/lib/python3.9/dist-packages/matplotlib/pyplot.py\u001b[0m in \u001b[0;36m_draw_all_if_interactive\u001b[0;34m()\u001b[0m\n\u001b[1;32m    118\u001b[0m \u001b[0;32mdef\u001b[0m \u001b[0m_draw_all_if_interactive\u001b[0m\u001b[0;34m(\u001b[0m\u001b[0;34m)\u001b[0m\u001b[0;34m:\u001b[0m\u001b[0;34m\u001b[0m\u001b[0;34m\u001b[0m\u001b[0m\n\u001b[1;32m    119\u001b[0m     \u001b[0;32mif\u001b[0m \u001b[0mmatplotlib\u001b[0m\u001b[0;34m.\u001b[0m\u001b[0mis_interactive\u001b[0m\u001b[0;34m(\u001b[0m\u001b[0;34m)\u001b[0m\u001b[0;34m:\u001b[0m\u001b[0;34m\u001b[0m\u001b[0;34m\u001b[0m\u001b[0m\n\u001b[0;32m--> 120\u001b[0;31m         \u001b[0mdraw_all\u001b[0m\u001b[0;34m(\u001b[0m\u001b[0;34m)\u001b[0m\u001b[0;34m\u001b[0m\u001b[0;34m\u001b[0m\u001b[0m\n\u001b[0m\u001b[1;32m    121\u001b[0m \u001b[0;34m\u001b[0m\u001b[0m\n\u001b[1;32m    122\u001b[0m \u001b[0;34m\u001b[0m\u001b[0m\n",
            "\u001b[0;32m/usr/local/lib/python3.9/dist-packages/matplotlib/_pylab_helpers.py\u001b[0m in \u001b[0;36mdraw_all\u001b[0;34m(cls, force)\u001b[0m\n\u001b[1;32m    130\u001b[0m         \u001b[0;32mfor\u001b[0m \u001b[0mmanager\u001b[0m \u001b[0;32min\u001b[0m \u001b[0mcls\u001b[0m\u001b[0;34m.\u001b[0m\u001b[0mget_all_fig_managers\u001b[0m\u001b[0;34m(\u001b[0m\u001b[0;34m)\u001b[0m\u001b[0;34m:\u001b[0m\u001b[0;34m\u001b[0m\u001b[0;34m\u001b[0m\u001b[0m\n\u001b[1;32m    131\u001b[0m             \u001b[0;32mif\u001b[0m \u001b[0mforce\u001b[0m \u001b[0;32mor\u001b[0m \u001b[0mmanager\u001b[0m\u001b[0;34m.\u001b[0m\u001b[0mcanvas\u001b[0m\u001b[0;34m.\u001b[0m\u001b[0mfigure\u001b[0m\u001b[0;34m.\u001b[0m\u001b[0mstale\u001b[0m\u001b[0;34m:\u001b[0m\u001b[0;34m\u001b[0m\u001b[0;34m\u001b[0m\u001b[0m\n\u001b[0;32m--> 132\u001b[0;31m                 \u001b[0mmanager\u001b[0m\u001b[0;34m.\u001b[0m\u001b[0mcanvas\u001b[0m\u001b[0;34m.\u001b[0m\u001b[0mdraw_idle\u001b[0m\u001b[0;34m(\u001b[0m\u001b[0;34m)\u001b[0m\u001b[0;34m\u001b[0m\u001b[0;34m\u001b[0m\u001b[0m\n\u001b[0m\u001b[1;32m    133\u001b[0m \u001b[0;34m\u001b[0m\u001b[0m\n\u001b[1;32m    134\u001b[0m \u001b[0;34m\u001b[0m\u001b[0m\n",
            "\u001b[0;32m/usr/local/lib/python3.9/dist-packages/matplotlib/backend_bases.py\u001b[0m in \u001b[0;36mdraw_idle\u001b[0;34m(self, *args, **kwargs)\u001b[0m\n\u001b[1;32m   2080\u001b[0m         \u001b[0;32mif\u001b[0m \u001b[0;32mnot\u001b[0m \u001b[0mself\u001b[0m\u001b[0;34m.\u001b[0m\u001b[0m_is_idle_drawing\u001b[0m\u001b[0;34m:\u001b[0m\u001b[0;34m\u001b[0m\u001b[0;34m\u001b[0m\u001b[0m\n\u001b[1;32m   2081\u001b[0m             \u001b[0;32mwith\u001b[0m \u001b[0mself\u001b[0m\u001b[0;34m.\u001b[0m\u001b[0m_idle_draw_cntx\u001b[0m\u001b[0;34m(\u001b[0m\u001b[0;34m)\u001b[0m\u001b[0;34m:\u001b[0m\u001b[0;34m\u001b[0m\u001b[0;34m\u001b[0m\u001b[0m\n\u001b[0;32m-> 2082\u001b[0;31m                 \u001b[0mself\u001b[0m\u001b[0;34m.\u001b[0m\u001b[0mdraw\u001b[0m\u001b[0;34m(\u001b[0m\u001b[0;34m*\u001b[0m\u001b[0margs\u001b[0m\u001b[0;34m,\u001b[0m \u001b[0;34m**\u001b[0m\u001b[0mkwargs\u001b[0m\u001b[0;34m)\u001b[0m\u001b[0;34m\u001b[0m\u001b[0;34m\u001b[0m\u001b[0m\n\u001b[0m\u001b[1;32m   2083\u001b[0m \u001b[0;34m\u001b[0m\u001b[0m\n\u001b[1;32m   2084\u001b[0m     \u001b[0;34m@\u001b[0m\u001b[0mproperty\u001b[0m\u001b[0;34m\u001b[0m\u001b[0;34m\u001b[0m\u001b[0m\n",
            "\u001b[0;32m/usr/local/lib/python3.9/dist-packages/matplotlib/backends/backend_agg.py\u001b[0m in \u001b[0;36mdraw\u001b[0;34m(self)\u001b[0m\n\u001b[1;32m    398\u001b[0m              (self.toolbar._wait_cursor_for_draw_cm() if self.toolbar\n\u001b[1;32m    399\u001b[0m               else nullcontext()):\n\u001b[0;32m--> 400\u001b[0;31m             \u001b[0mself\u001b[0m\u001b[0;34m.\u001b[0m\u001b[0mfigure\u001b[0m\u001b[0;34m.\u001b[0m\u001b[0mdraw\u001b[0m\u001b[0;34m(\u001b[0m\u001b[0mself\u001b[0m\u001b[0;34m.\u001b[0m\u001b[0mrenderer\u001b[0m\u001b[0;34m)\u001b[0m\u001b[0;34m\u001b[0m\u001b[0;34m\u001b[0m\u001b[0m\n\u001b[0m\u001b[1;32m    401\u001b[0m             \u001b[0;31m# A GUI class may be need to update a window using this draw, so\u001b[0m\u001b[0;34m\u001b[0m\u001b[0;34m\u001b[0m\u001b[0m\n\u001b[1;32m    402\u001b[0m             \u001b[0;31m# don't forget to call the superclass.\u001b[0m\u001b[0;34m\u001b[0m\u001b[0;34m\u001b[0m\u001b[0m\n",
            "\u001b[0;32m/usr/local/lib/python3.9/dist-packages/matplotlib/artist.py\u001b[0m in \u001b[0;36mdraw_wrapper\u001b[0;34m(artist, renderer, *args, **kwargs)\u001b[0m\n\u001b[1;32m     93\u001b[0m     \u001b[0;34m@\u001b[0m\u001b[0mwraps\u001b[0m\u001b[0;34m(\u001b[0m\u001b[0mdraw\u001b[0m\u001b[0;34m)\u001b[0m\u001b[0;34m\u001b[0m\u001b[0;34m\u001b[0m\u001b[0m\n\u001b[1;32m     94\u001b[0m     \u001b[0;32mdef\u001b[0m \u001b[0mdraw_wrapper\u001b[0m\u001b[0;34m(\u001b[0m\u001b[0martist\u001b[0m\u001b[0;34m,\u001b[0m \u001b[0mrenderer\u001b[0m\u001b[0;34m,\u001b[0m \u001b[0;34m*\u001b[0m\u001b[0margs\u001b[0m\u001b[0;34m,\u001b[0m \u001b[0;34m**\u001b[0m\u001b[0mkwargs\u001b[0m\u001b[0;34m)\u001b[0m\u001b[0;34m:\u001b[0m\u001b[0;34m\u001b[0m\u001b[0;34m\u001b[0m\u001b[0m\n\u001b[0;32m---> 95\u001b[0;31m         \u001b[0mresult\u001b[0m \u001b[0;34m=\u001b[0m \u001b[0mdraw\u001b[0m\u001b[0;34m(\u001b[0m\u001b[0martist\u001b[0m\u001b[0;34m,\u001b[0m \u001b[0mrenderer\u001b[0m\u001b[0;34m,\u001b[0m \u001b[0;34m*\u001b[0m\u001b[0margs\u001b[0m\u001b[0;34m,\u001b[0m \u001b[0;34m**\u001b[0m\u001b[0mkwargs\u001b[0m\u001b[0;34m)\u001b[0m\u001b[0;34m\u001b[0m\u001b[0;34m\u001b[0m\u001b[0m\n\u001b[0m\u001b[1;32m     96\u001b[0m         \u001b[0;32mif\u001b[0m \u001b[0mrenderer\u001b[0m\u001b[0;34m.\u001b[0m\u001b[0m_rasterizing\u001b[0m\u001b[0;34m:\u001b[0m\u001b[0;34m\u001b[0m\u001b[0;34m\u001b[0m\u001b[0m\n\u001b[1;32m     97\u001b[0m             \u001b[0mrenderer\u001b[0m\u001b[0;34m.\u001b[0m\u001b[0mstop_rasterizing\u001b[0m\u001b[0;34m(\u001b[0m\u001b[0;34m)\u001b[0m\u001b[0;34m\u001b[0m\u001b[0;34m\u001b[0m\u001b[0m\n",
            "\u001b[0;32m/usr/local/lib/python3.9/dist-packages/matplotlib/artist.py\u001b[0m in \u001b[0;36mdraw_wrapper\u001b[0;34m(artist, renderer)\u001b[0m\n\u001b[1;32m     70\u001b[0m                 \u001b[0mrenderer\u001b[0m\u001b[0;34m.\u001b[0m\u001b[0mstart_filter\u001b[0m\u001b[0;34m(\u001b[0m\u001b[0;34m)\u001b[0m\u001b[0;34m\u001b[0m\u001b[0;34m\u001b[0m\u001b[0m\n\u001b[1;32m     71\u001b[0m \u001b[0;34m\u001b[0m\u001b[0m\n\u001b[0;32m---> 72\u001b[0;31m             \u001b[0;32mreturn\u001b[0m \u001b[0mdraw\u001b[0m\u001b[0;34m(\u001b[0m\u001b[0martist\u001b[0m\u001b[0;34m,\u001b[0m \u001b[0mrenderer\u001b[0m\u001b[0;34m)\u001b[0m\u001b[0;34m\u001b[0m\u001b[0;34m\u001b[0m\u001b[0m\n\u001b[0m\u001b[1;32m     73\u001b[0m         \u001b[0;32mfinally\u001b[0m\u001b[0;34m:\u001b[0m\u001b[0;34m\u001b[0m\u001b[0;34m\u001b[0m\u001b[0m\n\u001b[1;32m     74\u001b[0m             \u001b[0;32mif\u001b[0m \u001b[0martist\u001b[0m\u001b[0;34m.\u001b[0m\u001b[0mget_agg_filter\u001b[0m\u001b[0;34m(\u001b[0m\u001b[0;34m)\u001b[0m \u001b[0;32mis\u001b[0m \u001b[0;32mnot\u001b[0m \u001b[0;32mNone\u001b[0m\u001b[0;34m:\u001b[0m\u001b[0;34m\u001b[0m\u001b[0;34m\u001b[0m\u001b[0m\n",
            "\u001b[0;32m/usr/local/lib/python3.9/dist-packages/matplotlib/figure.py\u001b[0m in \u001b[0;36mdraw\u001b[0;34m(self, renderer)\u001b[0m\n\u001b[1;32m   3138\u001b[0m \u001b[0;34m\u001b[0m\u001b[0m\n\u001b[1;32m   3139\u001b[0m             \u001b[0mself\u001b[0m\u001b[0;34m.\u001b[0m\u001b[0mpatch\u001b[0m\u001b[0;34m.\u001b[0m\u001b[0mdraw\u001b[0m\u001b[0;34m(\u001b[0m\u001b[0mrenderer\u001b[0m\u001b[0;34m)\u001b[0m\u001b[0;34m\u001b[0m\u001b[0;34m\u001b[0m\u001b[0m\n\u001b[0;32m-> 3140\u001b[0;31m             mimage._draw_list_compositing_images(\n\u001b[0m\u001b[1;32m   3141\u001b[0m                 renderer, self, artists, self.suppressComposite)\n\u001b[1;32m   3142\u001b[0m \u001b[0;34m\u001b[0m\u001b[0m\n",
            "\u001b[0;32m/usr/local/lib/python3.9/dist-packages/matplotlib/image.py\u001b[0m in \u001b[0;36m_draw_list_compositing_images\u001b[0;34m(renderer, parent, artists, suppress_composite)\u001b[0m\n\u001b[1;32m    129\u001b[0m     \u001b[0;32mif\u001b[0m \u001b[0mnot_composite\u001b[0m \u001b[0;32mor\u001b[0m \u001b[0;32mnot\u001b[0m \u001b[0mhas_images\u001b[0m\u001b[0;34m:\u001b[0m\u001b[0;34m\u001b[0m\u001b[0;34m\u001b[0m\u001b[0m\n\u001b[1;32m    130\u001b[0m         \u001b[0;32mfor\u001b[0m \u001b[0ma\u001b[0m \u001b[0;32min\u001b[0m \u001b[0martists\u001b[0m\u001b[0;34m:\u001b[0m\u001b[0;34m\u001b[0m\u001b[0;34m\u001b[0m\u001b[0m\n\u001b[0;32m--> 131\u001b[0;31m             \u001b[0ma\u001b[0m\u001b[0;34m.\u001b[0m\u001b[0mdraw\u001b[0m\u001b[0;34m(\u001b[0m\u001b[0mrenderer\u001b[0m\u001b[0;34m)\u001b[0m\u001b[0;34m\u001b[0m\u001b[0;34m\u001b[0m\u001b[0m\n\u001b[0m\u001b[1;32m    132\u001b[0m     \u001b[0;32melse\u001b[0m\u001b[0;34m:\u001b[0m\u001b[0;34m\u001b[0m\u001b[0;34m\u001b[0m\u001b[0m\n\u001b[1;32m    133\u001b[0m         \u001b[0;31m# Composite any adjacent images together\u001b[0m\u001b[0;34m\u001b[0m\u001b[0;34m\u001b[0m\u001b[0m\n",
            "\u001b[0;32m/usr/local/lib/python3.9/dist-packages/matplotlib/artist.py\u001b[0m in \u001b[0;36mdraw_wrapper\u001b[0;34m(artist, renderer)\u001b[0m\n\u001b[1;32m     70\u001b[0m                 \u001b[0mrenderer\u001b[0m\u001b[0;34m.\u001b[0m\u001b[0mstart_filter\u001b[0m\u001b[0;34m(\u001b[0m\u001b[0;34m)\u001b[0m\u001b[0;34m\u001b[0m\u001b[0;34m\u001b[0m\u001b[0m\n\u001b[1;32m     71\u001b[0m \u001b[0;34m\u001b[0m\u001b[0m\n\u001b[0;32m---> 72\u001b[0;31m             \u001b[0;32mreturn\u001b[0m \u001b[0mdraw\u001b[0m\u001b[0;34m(\u001b[0m\u001b[0martist\u001b[0m\u001b[0;34m,\u001b[0m \u001b[0mrenderer\u001b[0m\u001b[0;34m)\u001b[0m\u001b[0;34m\u001b[0m\u001b[0;34m\u001b[0m\u001b[0m\n\u001b[0m\u001b[1;32m     73\u001b[0m         \u001b[0;32mfinally\u001b[0m\u001b[0;34m:\u001b[0m\u001b[0;34m\u001b[0m\u001b[0;34m\u001b[0m\u001b[0m\n\u001b[1;32m     74\u001b[0m             \u001b[0;32mif\u001b[0m \u001b[0martist\u001b[0m\u001b[0;34m.\u001b[0m\u001b[0mget_agg_filter\u001b[0m\u001b[0;34m(\u001b[0m\u001b[0;34m)\u001b[0m \u001b[0;32mis\u001b[0m \u001b[0;32mnot\u001b[0m \u001b[0;32mNone\u001b[0m\u001b[0;34m:\u001b[0m\u001b[0;34m\u001b[0m\u001b[0;34m\u001b[0m\u001b[0m\n",
            "\u001b[0;32m/usr/local/lib/python3.9/dist-packages/matplotlib/axes/_base.py\u001b[0m in \u001b[0;36mdraw\u001b[0;34m(self, renderer)\u001b[0m\n\u001b[1;32m   3062\u001b[0m             \u001b[0m_draw_rasterized\u001b[0m\u001b[0;34m(\u001b[0m\u001b[0mself\u001b[0m\u001b[0;34m.\u001b[0m\u001b[0mfigure\u001b[0m\u001b[0;34m,\u001b[0m \u001b[0martists_rasterized\u001b[0m\u001b[0;34m,\u001b[0m \u001b[0mrenderer\u001b[0m\u001b[0;34m)\u001b[0m\u001b[0;34m\u001b[0m\u001b[0;34m\u001b[0m\u001b[0m\n\u001b[1;32m   3063\u001b[0m \u001b[0;34m\u001b[0m\u001b[0m\n\u001b[0;32m-> 3064\u001b[0;31m         mimage._draw_list_compositing_images(\n\u001b[0m\u001b[1;32m   3065\u001b[0m             renderer, self, artists, self.figure.suppressComposite)\n\u001b[1;32m   3066\u001b[0m \u001b[0;34m\u001b[0m\u001b[0m\n",
            "\u001b[0;32m/usr/local/lib/python3.9/dist-packages/matplotlib/image.py\u001b[0m in \u001b[0;36m_draw_list_compositing_images\u001b[0;34m(renderer, parent, artists, suppress_composite)\u001b[0m\n\u001b[1;32m    129\u001b[0m     \u001b[0;32mif\u001b[0m \u001b[0mnot_composite\u001b[0m \u001b[0;32mor\u001b[0m \u001b[0;32mnot\u001b[0m \u001b[0mhas_images\u001b[0m\u001b[0;34m:\u001b[0m\u001b[0;34m\u001b[0m\u001b[0;34m\u001b[0m\u001b[0m\n\u001b[1;32m    130\u001b[0m         \u001b[0;32mfor\u001b[0m \u001b[0ma\u001b[0m \u001b[0;32min\u001b[0m \u001b[0martists\u001b[0m\u001b[0;34m:\u001b[0m\u001b[0;34m\u001b[0m\u001b[0;34m\u001b[0m\u001b[0m\n\u001b[0;32m--> 131\u001b[0;31m             \u001b[0ma\u001b[0m\u001b[0;34m.\u001b[0m\u001b[0mdraw\u001b[0m\u001b[0;34m(\u001b[0m\u001b[0mrenderer\u001b[0m\u001b[0;34m)\u001b[0m\u001b[0;34m\u001b[0m\u001b[0;34m\u001b[0m\u001b[0m\n\u001b[0m\u001b[1;32m    132\u001b[0m     \u001b[0;32melse\u001b[0m\u001b[0;34m:\u001b[0m\u001b[0;34m\u001b[0m\u001b[0;34m\u001b[0m\u001b[0m\n\u001b[1;32m    133\u001b[0m         \u001b[0;31m# Composite any adjacent images together\u001b[0m\u001b[0;34m\u001b[0m\u001b[0;34m\u001b[0m\u001b[0m\n",
            "\u001b[0;32m/usr/local/lib/python3.9/dist-packages/matplotlib/artist.py\u001b[0m in \u001b[0;36mdraw_wrapper\u001b[0;34m(artist, renderer)\u001b[0m\n\u001b[1;32m     70\u001b[0m                 \u001b[0mrenderer\u001b[0m\u001b[0;34m.\u001b[0m\u001b[0mstart_filter\u001b[0m\u001b[0;34m(\u001b[0m\u001b[0;34m)\u001b[0m\u001b[0;34m\u001b[0m\u001b[0;34m\u001b[0m\u001b[0m\n\u001b[1;32m     71\u001b[0m \u001b[0;34m\u001b[0m\u001b[0m\n\u001b[0;32m---> 72\u001b[0;31m             \u001b[0;32mreturn\u001b[0m \u001b[0mdraw\u001b[0m\u001b[0;34m(\u001b[0m\u001b[0martist\u001b[0m\u001b[0;34m,\u001b[0m \u001b[0mrenderer\u001b[0m\u001b[0;34m)\u001b[0m\u001b[0;34m\u001b[0m\u001b[0;34m\u001b[0m\u001b[0m\n\u001b[0m\u001b[1;32m     73\u001b[0m         \u001b[0;32mfinally\u001b[0m\u001b[0;34m:\u001b[0m\u001b[0;34m\u001b[0m\u001b[0;34m\u001b[0m\u001b[0m\n\u001b[1;32m     74\u001b[0m             \u001b[0;32mif\u001b[0m \u001b[0martist\u001b[0m\u001b[0;34m.\u001b[0m\u001b[0mget_agg_filter\u001b[0m\u001b[0;34m(\u001b[0m\u001b[0;34m)\u001b[0m \u001b[0;32mis\u001b[0m \u001b[0;32mnot\u001b[0m \u001b[0;32mNone\u001b[0m\u001b[0;34m:\u001b[0m\u001b[0;34m\u001b[0m\u001b[0;34m\u001b[0m\u001b[0m\n",
            "\u001b[0;32m/usr/local/lib/python3.9/dist-packages/matplotlib/text.py\u001b[0m in \u001b[0;36mdraw\u001b[0;34m(self, renderer)\u001b[0m\n\u001b[1;32m    798\u001b[0m                                           mtext=mtext)\n\u001b[1;32m    799\u001b[0m                 \u001b[0;32melse\u001b[0m\u001b[0;34m:\u001b[0m\u001b[0;34m\u001b[0m\u001b[0;34m\u001b[0m\u001b[0m\n\u001b[0;32m--> 800\u001b[0;31m                     textrenderer.draw_text(gc, x, y, clean_line,\n\u001b[0m\u001b[1;32m    801\u001b[0m                                            \u001b[0mself\u001b[0m\u001b[0;34m.\u001b[0m\u001b[0m_fontproperties\u001b[0m\u001b[0;34m,\u001b[0m \u001b[0mangle\u001b[0m\u001b[0;34m,\u001b[0m\u001b[0;34m\u001b[0m\u001b[0;34m\u001b[0m\u001b[0m\n\u001b[1;32m    802\u001b[0m                                            ismath=ismath, mtext=mtext)\n",
            "\u001b[0;32m/usr/local/lib/python3.9/dist-packages/matplotlib/backends/backend_agg.py\u001b[0m in \u001b[0;36mdraw_text\u001b[0;34m(self, gc, x, y, s, prop, angle, ismath, mtext)\u001b[0m\n\u001b[1;32m    206\u001b[0m         \u001b[0;31m# space) in the following call to draw_text_image).\u001b[0m\u001b[0;34m\u001b[0m\u001b[0;34m\u001b[0m\u001b[0m\n\u001b[1;32m    207\u001b[0m         \u001b[0mfont\u001b[0m\u001b[0;34m.\u001b[0m\u001b[0mset_text\u001b[0m\u001b[0;34m(\u001b[0m\u001b[0ms\u001b[0m\u001b[0;34m,\u001b[0m \u001b[0;36m0\u001b[0m\u001b[0;34m,\u001b[0m \u001b[0mflags\u001b[0m\u001b[0;34m=\u001b[0m\u001b[0mget_hinting_flag\u001b[0m\u001b[0;34m(\u001b[0m\u001b[0;34m)\u001b[0m\u001b[0;34m)\u001b[0m\u001b[0;34m\u001b[0m\u001b[0;34m\u001b[0m\u001b[0m\n\u001b[0;32m--> 208\u001b[0;31m         font.draw_glyphs_to_bitmap(\n\u001b[0m\u001b[1;32m    209\u001b[0m             antialiased=mpl.rcParams['text.antialiased'])\n\u001b[1;32m    210\u001b[0m         \u001b[0md\u001b[0m \u001b[0;34m=\u001b[0m \u001b[0mfont\u001b[0m\u001b[0;34m.\u001b[0m\u001b[0mget_descent\u001b[0m\u001b[0;34m(\u001b[0m\u001b[0;34m)\u001b[0m \u001b[0;34m/\u001b[0m \u001b[0;36m64.0\u001b[0m\u001b[0;34m\u001b[0m\u001b[0;34m\u001b[0m\u001b[0m\n",
            "\u001b[0;31mKeyboardInterrupt\u001b[0m: "
          ]
        },
        {
          "output_type": "display_data",
          "data": {
            "text/plain": [
              "<Figure size 432x288 with 2 Axes>"
            ],
            "image/png": "[encoded data removed]"
          },
          "metadata": {}
        }
      ],
      "source": [
        "from sklearn.metrics import confusion_matrix\n",
        "import seaborn as sns\n",
        "\n",
        "# Compute confusion matrix\n",
        "cnf_matrix = confusion_matrix(y_test_df, y_test_pred)\n",
        "np.set_printoptions(precision=2)\n",
        "\n",
        "# Plot confusion matrix\n",
        "sns.set(font_scale=1.4) # for label size\n",
        "sns.heatmap(cnf_matrix, annot=True, annot_kws={\"size\": 16}, cmap=\"Blues\", fmt='g') # font size\n"
      ]
    }
  ],
  "metadata": {
    "colab": {
      "provenance": []
    },
    "kernelspec": {
      "display_name": "Python 3",
      "name": "python3"
    },
    "language_info": {
      "name": "python"
    }
  },
  "nbformat": 4,
  "nbformat_minor": 0
}